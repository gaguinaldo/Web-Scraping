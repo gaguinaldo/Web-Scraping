{
 "cells": [
  {
   "cell_type": "code",
   "execution_count": 1,
   "metadata": {},
   "outputs": [],
   "source": [
    "import pandas as pd\n",
    "import requests as r\n",
    "from bs4 import BeautifulSoup as soup"
   ]
  },
  {
   "cell_type": "code",
   "execution_count": 2,
   "metadata": {
    "collapsed": true
   },
   "outputs": [],
   "source": [
    "url = 'http://www.aqmd.gov/home/rules-compliance/rules/scaqmd-rule-book/regulation-iii'"
   ]
  },
  {
   "cell_type": "code",
   "execution_count": 3,
   "metadata": {
    "collapsed": true
   },
   "outputs": [],
   "source": [
    "data = r.get(url)"
   ]
  },
  {
   "cell_type": "code",
   "execution_count": 4,
   "metadata": {},
   "outputs": [
    {
     "data": {
      "text/plain": [
       "<Response [200]>"
      ]
     },
     "execution_count": 4,
     "metadata": {},
     "output_type": "execute_result"
    }
   ],
   "source": [
    "data"
   ]
  },
  {
   "cell_type": "code",
   "execution_count": 5,
   "metadata": {},
   "outputs": [],
   "source": [
    "page_data = soup(data.text, 'html.parser')"
   ]
  },
  {
   "cell_type": "code",
   "execution_count": 6,
   "metadata": {
    "collapsed": true
   },
   "outputs": [],
   "source": [
    "all_data = page_data.find_all('p')"
   ]
  },
  {
   "cell_type": "code",
   "execution_count": 7,
   "metadata": {},
   "outputs": [
    {
     "data": {
      "text/plain": [
       "'Rule 301'"
      ]
     },
     "execution_count": 7,
     "metadata": {},
     "output_type": "execute_result"
    }
   ],
   "source": [
    "rule_num = all_data[2].text.split(' \\n(PDF)')[0]\n",
    "rule_num "
   ]
  },
  {
   "cell_type": "code",
   "execution_count": 8,
   "metadata": {},
   "outputs": [
    {
     "data": {
      "text/plain": [
       "'Permitting and Associated Fees'"
      ]
     },
     "execution_count": 8,
     "metadata": {},
     "output_type": "execute_result"
    }
   ],
   "source": [
    "rule_name = all_data[3].text.split('\\n')[0]\n",
    "rule_name"
   ]
  },
  {
   "cell_type": "code",
   "execution_count": 9,
   "metadata": {},
   "outputs": [
    {
     "data": {
      "text/plain": [
       "'/docs/default-source/rule-book/reg-iii/rule-301.pdf?sfvrsn=4'"
      ]
     },
     "execution_count": 9,
     "metadata": {},
     "output_type": "execute_result"
    }
   ],
   "source": [
    "rule_url = all_data[2].find('a')['href']\n",
    "rule_url"
   ]
  },
  {
   "cell_type": "code",
   "execution_count": 10,
   "metadata": {},
   "outputs": [
    {
     "data": {
      "text/plain": [
       "'Amended June 2, 2017'"
      ]
     },
     "execution_count": 10,
     "metadata": {},
     "output_type": "execute_result"
    }
   ],
   "source": [
    "amend_string = all_data[3].text.split('\\n')[1]\n",
    "amend_clean = amend_string[(amend_string.find('(')+ 1):(amend_string.find(')'))]\n",
    "amend_clean"
   ]
  },
  {
   "cell_type": "code",
   "execution_count": 11,
   "metadata": {},
   "outputs": [
    {
     "data": {
      "text/plain": [
       "'Rule 301.1'"
      ]
     },
     "execution_count": 11,
     "metadata": {},
     "output_type": "execute_result"
    }
   ],
   "source": [
    "rule_num = all_data[4].text.split(' \\n(PDF)')[0]\n",
    "rule_num "
   ]
  },
  {
   "cell_type": "code",
   "execution_count": 12,
   "metadata": {},
   "outputs": [
    {
     "data": {
      "text/plain": [
       "'Permit Fee Rates'"
      ]
     },
     "execution_count": 12,
     "metadata": {},
     "output_type": "execute_result"
    }
   ],
   "source": [
    "rule_name = all_data[5].text.split('\\n')[0]\n",
    "rule_name"
   ]
  },
  {
   "cell_type": "code",
   "execution_count": 13,
   "metadata": {},
   "outputs": [
    {
     "data": {
      "text/plain": [
       "'/docs/default-source/rule-book/reg-iii/rule-301-1.pdf?sfvrsn=4'"
      ]
     },
     "execution_count": 13,
     "metadata": {},
     "output_type": "execute_result"
    }
   ],
   "source": [
    "rule_url = all_data[4].find('a')['href']\n",
    "rule_url"
   ]
  },
  {
   "cell_type": "code",
   "execution_count": 14,
   "metadata": {},
   "outputs": [
    {
     "data": {
      "text/plain": [
       "'Rescinded June 1, 1990'"
      ]
     },
     "execution_count": 14,
     "metadata": {},
     "output_type": "execute_result"
    }
   ],
   "source": [
    "amend_string = all_data[5].text.split('\\n')[1]\n",
    "amend_clean = amend_string[(amend_string.find('(')+ 1):(amend_string.find(')'))]\n",
    "amend_clean"
   ]
  },
  {
   "cell_type": "code",
   "execution_count": 15,
   "metadata": {},
   "outputs": [
    {
     "data": {
      "text/plain": [
       "'Rule 320'"
      ]
     },
     "execution_count": 15,
     "metadata": {},
     "output_type": "execute_result"
    }
   ],
   "source": [
    "rule_num = all_data[44].text.split(' \\n(PDF)')[0]\n",
    "rule_num"
   ]
  },
  {
   "cell_type": "code",
   "execution_count": 16,
   "metadata": {},
   "outputs": [
    {
     "data": {
      "text/plain": [
       "'Automatic Adjustment Based on Consumer Price Index for Regulation III Fees'"
      ]
     },
     "execution_count": 16,
     "metadata": {},
     "output_type": "execute_result"
    }
   ],
   "source": [
    "rule_name = all_data[45].text.split('\\n')[0]\n",
    "rule_name"
   ]
  },
  {
   "cell_type": "code",
   "execution_count": 17,
   "metadata": {},
   "outputs": [
    {
     "data": {
      "text/plain": [
       "'/docs/default-source/rule-book/reg-iii/rule-320.pdf?sfvrsn=4'"
      ]
     },
     "execution_count": 17,
     "metadata": {},
     "output_type": "execute_result"
    }
   ],
   "source": [
    "rule_url = all_data[44].find('a')['href']\n",
    "rule_url"
   ]
  },
  {
   "cell_type": "code",
   "execution_count": 18,
   "metadata": {
    "collapsed": true
   },
   "outputs": [],
   "source": [
    "df_reg3 = pd.DataFrame()\n",
    "for num in range(2, 44 + 1, 2):\n",
    "    all_data = page_data.find_all('p')\n",
    "    rule_num = all_data[num].text.split(' \\n(PDF)')[0]\n",
    "    rule_name = all_data[num + 1].text.split('\\n')[0]\n",
    "    amend_string = all_data[num + 1].text.split('\\n')[1]\n",
    "    amend_clean = amend_string[(amend_string.find('(')+ 1):(amend_string.find(')'))]\n",
    "    rule_url = 'http://www.aqmd.gov' + all_data[num].find('a')['href']\n",
    "    df_reg3 = df_reg3.append(pd.DataFrame({'rule_name':rule_name, \n",
    "                                           'rule_number': rule_num, \n",
    "                                           'amended_date': amend_clean,\n",
    "                                           'full_url': rule_url}, index = [0]), ignore_index = True)"
   ]
  },
  {
   "cell_type": "code",
   "execution_count": 19,
   "metadata": {},
   "outputs": [],
   "source": [
    "s = df_reg3.iloc[11]['rule_number'].split(' (PDF)')[0]"
   ]
  },
  {
   "cell_type": "code",
   "execution_count": 20,
   "metadata": {},
   "outputs": [],
   "source": [
    "df_reg3 = df_reg3.set_value(11, 'rule_number', s)"
   ]
  },
  {
   "cell_type": "code",
   "execution_count": 21,
   "metadata": {},
   "outputs": [
    {
     "data": {
      "text/html": [
       "<div>\n",
       "<style>\n",
       "    .dataframe thead tr:only-child th {\n",
       "        text-align: right;\n",
       "    }\n",
       "\n",
       "    .dataframe thead th {\n",
       "        text-align: left;\n",
       "    }\n",
       "\n",
       "    .dataframe tbody tr th {\n",
       "        vertical-align: top;\n",
       "    }\n",
       "</style>\n",
       "<table border=\"1\" class=\"dataframe\">\n",
       "  <thead>\n",
       "    <tr style=\"text-align: right;\">\n",
       "      <th></th>\n",
       "      <th>amended_date</th>\n",
       "      <th>full_url</th>\n",
       "      <th>rule_name</th>\n",
       "      <th>rule_number</th>\n",
       "    </tr>\n",
       "  </thead>\n",
       "  <tbody>\n",
       "    <tr>\n",
       "      <th>0</th>\n",
       "      <td>Amended June 2, 2017</td>\n",
       "      <td>http://www.aqmd.gov/docs/default-source/rule-b...</td>\n",
       "      <td>Permitting and Associated Fees</td>\n",
       "      <td>Rule 301</td>\n",
       "    </tr>\n",
       "    <tr>\n",
       "      <th>1</th>\n",
       "      <td>Rescinded June 1, 1990</td>\n",
       "      <td>http://www.aqmd.gov/docs/default-source/rule-b...</td>\n",
       "      <td>Permit Fee Rates</td>\n",
       "      <td>Rule 301.1</td>\n",
       "    </tr>\n",
       "    <tr>\n",
       "      <th>2</th>\n",
       "      <td>Rescinded May 14, 1999</td>\n",
       "      <td>http://www.aqmd.gov/docs/default-source/rule-b...</td>\n",
       "      <td>Annual Operating Permit Emission Fee- Reduced ...</td>\n",
       "      <td>Rule 301.2</td>\n",
       "    </tr>\n",
       "    <tr>\n",
       "      <th>3</th>\n",
       "      <td>Amended February 12, 1993</td>\n",
       "      <td>http://www.aqmd.gov/docs/default-source/rule-b...</td>\n",
       "      <td>Fees For Publication</td>\n",
       "      <td>Rule 302</td>\n",
       "    </tr>\n",
       "    <tr>\n",
       "      <th>4</th>\n",
       "      <td>Amended June 2, 2017</td>\n",
       "      <td>http://www.aqmd.gov/docs/default-source/rule-b...</td>\n",
       "      <td>Hearing Board Fees</td>\n",
       "      <td>Rule 303</td>\n",
       "    </tr>\n",
       "    <tr>\n",
       "      <th>5</th>\n",
       "      <td>Amended June 2, 2017</td>\n",
       "      <td>http://www.aqmd.gov/docs/default-source/rule-b...</td>\n",
       "      <td>Equipment, Materials, and Ambient Air Analyses</td>\n",
       "      <td>Rule 304</td>\n",
       "    </tr>\n",
       "    <tr>\n",
       "      <th>6</th>\n",
       "      <td>Amended June 2, 2017</td>\n",
       "      <td>http://www.aqmd.gov/docs/default-source/rule-b...</td>\n",
       "      <td>Analyses Fees</td>\n",
       "      <td>Rule 304.1</td>\n",
       "    </tr>\n",
       "    <tr>\n",
       "      <th>7</th>\n",
       "      <td>Amended June 9, 2006</td>\n",
       "      <td>http://www.aqmd.gov/docs/default-source/rule-b...</td>\n",
       "      <td>Fees for Acid Deposition Research</td>\n",
       "      <td>Rule 305</td>\n",
       "    </tr>\n",
       "    <tr>\n",
       "      <th>8</th>\n",
       "      <td>Amended June 2, 2017</td>\n",
       "      <td>http://www.aqmd.gov/docs/default-source/rule-b...</td>\n",
       "      <td>Plan Fees</td>\n",
       "      <td>Rule 306</td>\n",
       "    </tr>\n",
       "    <tr>\n",
       "      <th>9</th>\n",
       "      <td>Amended June 9, 2006</td>\n",
       "      <td>http://www.aqmd.gov/docs/default-source/rule-b...</td>\n",
       "      <td>Fees for Air Toxics Emissions Inventory</td>\n",
       "      <td>Rule 307</td>\n",
       "    </tr>\n",
       "    <tr>\n",
       "      <th>10</th>\n",
       "      <td>Amended June 2, 2017</td>\n",
       "      <td>http://www.aqmd.gov/docs/default-source/rule-b...</td>\n",
       "      <td>Alternative Fees for Air Toxics Emissions Inve...</td>\n",
       "      <td>Rule 307.1</td>\n",
       "    </tr>\n",
       "    <tr>\n",
       "      <th>11</th>\n",
       "      <td>Amended June 2, 2017</td>\n",
       "      <td>http://www.aqmd.gov/docs/default-source/rule-b...</td>\n",
       "      <td>On-Road Motor Vehicle Mitigation Options Fees</td>\n",
       "      <td>Rule 308</td>\n",
       "    </tr>\n",
       "    <tr>\n",
       "      <th>12</th>\n",
       "      <td>Amended June 2, 2017</td>\n",
       "      <td>http://www.aqmd.gov/docs/default-source/rule-b...</td>\n",
       "      <td>Fees for Regulation XVI and Regulation XXV</td>\n",
       "      <td>Rule 309</td>\n",
       "    </tr>\n",
       "    <tr>\n",
       "      <th>13</th>\n",
       "      <td>Adopted March 5, 2010</td>\n",
       "      <td>http://www.aqmd.gov/docs/default-source/rule-b...</td>\n",
       "      <td>Amnesty for Unpermitted Equipment</td>\n",
       "      <td>Rule 310</td>\n",
       "    </tr>\n",
       "    <tr>\n",
       "      <th>14</th>\n",
       "      <td>Adopted June 3, 2011</td>\n",
       "      <td>http://www.aqmd.gov/docs/default-source/rule-b...</td>\n",
       "      <td>Amnesty for Unpermitted Equipment and Small Bu...</td>\n",
       "      <td>Rule 310.1</td>\n",
       "    </tr>\n",
       "  </tbody>\n",
       "</table>\n",
       "</div>"
      ],
      "text/plain": [
       "                 amended_date  \\\n",
       "0        Amended June 2, 2017   \n",
       "1      Rescinded June 1, 1990   \n",
       "2      Rescinded May 14, 1999   \n",
       "3   Amended February 12, 1993   \n",
       "4        Amended June 2, 2017   \n",
       "5        Amended June 2, 2017   \n",
       "6        Amended June 2, 2017   \n",
       "7        Amended June 9, 2006   \n",
       "8        Amended June 2, 2017   \n",
       "9        Amended June 9, 2006   \n",
       "10       Amended June 2, 2017   \n",
       "11       Amended June 2, 2017   \n",
       "12       Amended June 2, 2017   \n",
       "13      Adopted March 5, 2010   \n",
       "14       Adopted June 3, 2011   \n",
       "\n",
       "                                             full_url  \\\n",
       "0   http://www.aqmd.gov/docs/default-source/rule-b...   \n",
       "1   http://www.aqmd.gov/docs/default-source/rule-b...   \n",
       "2   http://www.aqmd.gov/docs/default-source/rule-b...   \n",
       "3   http://www.aqmd.gov/docs/default-source/rule-b...   \n",
       "4   http://www.aqmd.gov/docs/default-source/rule-b...   \n",
       "5   http://www.aqmd.gov/docs/default-source/rule-b...   \n",
       "6   http://www.aqmd.gov/docs/default-source/rule-b...   \n",
       "7   http://www.aqmd.gov/docs/default-source/rule-b...   \n",
       "8   http://www.aqmd.gov/docs/default-source/rule-b...   \n",
       "9   http://www.aqmd.gov/docs/default-source/rule-b...   \n",
       "10  http://www.aqmd.gov/docs/default-source/rule-b...   \n",
       "11  http://www.aqmd.gov/docs/default-source/rule-b...   \n",
       "12  http://www.aqmd.gov/docs/default-source/rule-b...   \n",
       "13  http://www.aqmd.gov/docs/default-source/rule-b...   \n",
       "14  http://www.aqmd.gov/docs/default-source/rule-b...   \n",
       "\n",
       "                                            rule_name rule_number  \n",
       "0                      Permitting and Associated Fees    Rule 301  \n",
       "1                                    Permit Fee Rates  Rule 301.1  \n",
       "2   Annual Operating Permit Emission Fee- Reduced ...  Rule 301.2  \n",
       "3                                Fees For Publication    Rule 302  \n",
       "4                                  Hearing Board Fees    Rule 303  \n",
       "5      Equipment, Materials, and Ambient Air Analyses    Rule 304  \n",
       "6                                       Analyses Fees  Rule 304.1  \n",
       "7                   Fees for Acid Deposition Research    Rule 305  \n",
       "8                                           Plan Fees    Rule 306  \n",
       "9             Fees for Air Toxics Emissions Inventory    Rule 307  \n",
       "10  Alternative Fees for Air Toxics Emissions Inve...  Rule 307.1  \n",
       "11      On-Road Motor Vehicle Mitigation Options Fees    Rule 308  \n",
       "12         Fees for Regulation XVI and Regulation XXV    Rule 309  \n",
       "13                  Amnesty for Unpermitted Equipment    Rule 310  \n",
       "14  Amnesty for Unpermitted Equipment and Small Bu...  Rule 310.1  "
      ]
     },
     "execution_count": 21,
     "metadata": {},
     "output_type": "execute_result"
    }
   ],
   "source": [
    "df_reg3.head(15)"
   ]
  },
  {
   "cell_type": "code",
   "execution_count": 22,
   "metadata": {
    "collapsed": true
   },
   "outputs": [],
   "source": [
    "df_reg3.to_csv('regulation_3.csv')"
   ]
  },
  {
   "cell_type": "code",
   "execution_count": 23,
   "metadata": {},
   "outputs": [
    {
     "data": {
      "text/plain": [
       "(22, 4)"
      ]
     },
     "execution_count": 23,
     "metadata": {},
     "output_type": "execute_result"
    }
   ],
   "source": [
    "df_reg3.shape"
   ]
  }
 ],
 "metadata": {
  "kernelspec": {
   "display_name": "Python 3",
   "language": "python",
   "name": "python3"
  },
  "language_info": {
   "codemirror_mode": {
    "name": "ipython",
    "version": 3
   },
   "file_extension": ".py",
   "mimetype": "text/x-python",
   "name": "python",
   "nbconvert_exporter": "python",
   "pygments_lexer": "ipython3",
   "version": "3.6.3"
  }
 },
 "nbformat": 4,
 "nbformat_minor": 2
}
