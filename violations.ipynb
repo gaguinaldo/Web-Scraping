{
 "cells": [
  {
   "cell_type": "code",
   "execution_count": 1,
   "metadata": {
    "collapsed": true
   },
   "outputs": [],
   "source": [
    "import requests as r\n",
    "from bs4 import BeautifulSoup as soup"
   ]
  },
  {
   "cell_type": "code",
   "execution_count": null,
   "metadata": {
    "collapsed": true
   },
   "outputs": [],
   "source": [
    "#http://www.aqmd.gov/docs/default-source/Agendas/Governing-Board/2018/2018-feb2-016.pdf?sfvrsn=8"
   ]
  },
  {
   "cell_type": "code",
   "execution_count": 2,
   "metadata": {
    "collapsed": true
   },
   "outputs": [],
   "source": [
    "url = 'http://www3.aqmd.gov/webappl/fim/prog/novdetail.aspx?novid=P64032&notice_type=NOV&fac_id=800080'"
   ]
  },
  {
   "cell_type": "code",
   "execution_count": 3,
   "metadata": {
    "collapsed": true
   },
   "outputs": [],
   "source": [
    "data = r.get(url)"
   ]
  },
  {
   "cell_type": "code",
   "execution_count": 4,
   "metadata": {},
   "outputs": [
    {
     "data": {
      "text/plain": [
       "<Response [200]>"
      ]
     },
     "execution_count": 4,
     "metadata": {},
     "output_type": "execute_result"
    }
   ],
   "source": [
    "data"
   ]
  },
  {
   "cell_type": "code",
   "execution_count": 5,
   "metadata": {
    "collapsed": true
   },
   "outputs": [],
   "source": [
    "page_soup = soup(data.text, 'html.parser')"
   ]
  },
  {
   "cell_type": "code",
   "execution_count": 12,
   "metadata": {},
   "outputs": [
    {
     "data": {
      "text/plain": [
       "\n",
       "<!DOCTYPE HTML PUBLIC \"-//W3C//DTD HTML 4.0 Transitional//EN\">\n",
       "\n",
       "<html>\n",
       "<head>\n",
       "<title>Facility INformation Detail</title>\n",
       "<link href=\"/assets/WebApps.css\" rel=\"stylesheet\" type=\"text/css\"/>\n",
       "<link href=\"/assets/aqmd.css\" rel=\"stylesheet\" type=\"text/css\"/>\n",
       "</head>\n",
       "<body bgcolor=\"#ffffff\">\n",
       "<form action=\"novdetail.aspx?novid=P64032&amp;notice_type=NOV&amp;fac_id=800080\" id=\"Form2\" method=\"post\" name=\"Form2\">\n",
       "<input id=\"__VIEWSTATE\" name=\"__VIEWSTATE\" type=\"hidden\" value=\"/wEPDwUJNjUzNzg3NDcxD2QWAgIBD2QWCAIBD2QWEAIBDxYCHgRocmVmBRMuLi9wcm9nL3NlYXJjaC5hc3B4ZAIDDxYCHwAFGi4uL3Byb2cvc2VhcmNocmVzdWx0cy5hc3B4ZAIFDxYCHwAFKy4uL3Byb2cvZmFjaWxpdHlfZGV0YWlscy5hc3B4P2ZhY19pZD04MDAwODBkAgcPFgIfAAUhLi4vcHJvZy9lcWxpc3QuYXNweD9mYWNfaWQ9ODAwMDgwZAIJDxYCHwAFIC4uL3Byb2cvbm92bmMuYXNweD9mYWNfaWQ9ODAwMDgwZAILDxYCHwAFIy4uL3Byb2cvZW1pc3Npb24uYXNweD9mYWNfaWQ9ODAwMDgwZAINDxYCHwAFIS4uL3Byb2cvaGJob21lLmFzcHg/ZmFjX2lkPTgwMDA4MGQCDw8WAh8ABSkuLi9wcm9nL3RyYW5zcG9ydGF0aW9uLmFzcHg/ZmFjX2lkPTgwMDA4MGQCBQ8WAh4HYmdjb2xvcgUHIzY2OTljY2QCBw8WAh8BBQcjZWZmN2ZlFggCAQ9kFgJmDw8WAh4EVGV4dAUGUDY0MDMyZGQCAw9kFgJmDw8WAh8CBQg3LzEvMjAxNWRkAgUPZBYCZg8PFgIfAgUKMTAvMTIvMjAxN2RkAgcPZBYCZg8PFgIfAgUDTk9WZGQCCQ8WAh8BBQcjZWZmN2ZlFhJmD2QWAgICD2QWAgIBDw8WAh8CBQY4MDAwODBkZAIBD2QWAgICD2QWAgIBDw8WAh8CBShMVU5EQVlfVEhBR0FSRCBDTyBEQkEgV09STEQgT0lMIFJFRklOSU5HZGQCAg9kFgICAg9kFgICAQ8PFgIfAgUxOTMwMSAgICAgICBHQVJGSUVMRCAgICAgIDxicj5TT1VUSCBHQVRFLCBDQSA5MDI4MGRkAgMPZBYCAgIPZBYCAgEPDxYCHwIFRFJ1bGUgMzAwMihjKSgxKSBTZWxmIHJlcG9ydGVkIFRpdGxlIFYgZGV2aWF0aW9ucy4gU2VlIGF0dGFjaGVkIHRhYmxlZGQCBA9kFgICAg9kFgICAQ8PFgIfAmVkZAIFD2QWBGYPZBYCAgEPDxYCHwIFEEZvbGxvdyBVcCBTdGF0dXNkZAICD2QWAgIBDw8WAh8CBQ1JbiBDb21wbGlhbmNlZGQCBg9kFgRmDxYCHglpbm5lcmh0bWwFEjxiPkRpc3Bvc2l0aW9uPC9iPmQCAg9kFgICAQ8PFgIfAmVkZAIHD2QWBGYPZBYCAgEPDxYCHwIFEERpc3Bvc2l0aW9uIERhdGVkZAICD2QWAgIBDw8WAh8CZWRkAggPZBYCAgIPZBYCAgEPPCsACwEADxYIHghEYXRhS2V5cxYAHgtfIUl0ZW1Db3VudGYeCVBhZ2VDb3VudAIBHhVfIURhdGFTb3VyY2VJdGVtQ291bnRmZGRkfq9TTYF+PiePHNqqaAw/eBtW9VuZU9Atj+rTJvVZbRc=\"/>\n",
       "<input id=\"__VIEWSTATEGENERATOR\" name=\"__VIEWSTATEGENERATOR\" type=\"hidden\" value=\"4D5B55E7\"/>\n",
       "<table border=\"0\" cellpadding=\"0\" cellspacing=\"0\" width=\"100%\">\n",
       "<tr>\n",
       "<td><img border=\"0\" src=\"../images/header.jpg\"/></td>\n",
       "</tr>\n",
       "</table>\n",
       "<table border=\"0\" cellpadding=\"4\" cellspacing=\"0\" id=\"titleBar\" width=\"97%\">\n",
       "<tr>\n",
       "<td colspan=\"2\" width=\"100%\">\n",
       "<table bgcolor=\"#3a6ea5\" border=\"0\" cellpadding=\"0\" cellspacing=\"0\" width=\"97%\">\n",
       "<tr align=\"right\" valign=\"middle\"> <!-- Alternate Color: 3d467e-->\n",
       "<td class=\"right\" height=\"25\" nowrap=\"\">\n",
       "<p align=\"left\">  <a class=\"AppNavBar\" href=\"search.aspx\" id=\"Menu1_lnkSearch\" name=\"lnkSearch\">\n",
       "\t\t\t\t\tSearch Again</a> <a> <font class=\"clsNavText\">|</font> </a> <a class=\"AppNavBar\" href=\"searchresults.aspx\" id=\"Menu1_lnkResults\" name=\"lnkResults\">\n",
       "\t\t\t\t\tSearch Results</a> <a> <font class=\"clsNavText\">|</font> </a> <a class=\"AppNavBar\" href=\"facility_details.aspx?fac_id=800080\" id=\"Menu1_lnkFac\" name=\"lnkFac\">\n",
       "\t\t\t\t\tFacility Details</a> <a> <font class=\"clsNavText\">|</font></a> <a class=\"AppNavBar\" href=\"eqlist.aspx?fac_id=800080\" id=\"Menu1_lnkEqList\" name=\"lnkEqList\">\n",
       "\t\t\t\t\tEquipment List</a> <a> <font class=\"clsNavText\">|</font></a> <a class=\"AppNavBar\" href=\"novnc.aspx?fac_id=800080\" id=\"Menu1_lnkCompliance\" name=\"lnkCompliance\">\n",
       "\t\t\t\t\tCompliance</a> <a> <font class=\"clsNavText\">|  </font></a> <a class=\"AppNavBar\" href=\"emission.aspx?fac_id=800080\" id=\"Menu1_lnkEmissions\" name=\"lnkEmissions\">\n",
       "\t\t\t\t\tEmissions</a>   <a> <font class=\"clsNavText\">|</font></a> \n",
       "\t\t\t\t<a class=\"AppNavBar\" href=\"hbhome.aspx?fac_id=800080\" id=\"Menu1_lnkHB\" name=\"lnkHB\">Hearing Board</a> \n",
       "\t\t\t\t<a> </a> <a><font class=\"clsNavText\">|</font></a> <a class=\"AppNavBar\" href=\"transportation.aspx?fac_id=800080\" id=\"Menu1_lnkTransport\" name=\"lnkTransport\">\n",
       "\t\t\t\t\tTransportation</a>\n",
       "</p>\n",
       "</td>\n",
       "</tr>\n",
       "</table>\n",
       "</td>\n",
       "</tr>\n",
       "<tr>\n",
       "<td colspan=\"2\" width=\"100%\">\n",
       "<span id=\"lblTop\"><b>NOV/NC Details</b></span></td>\n",
       "</tr>\n",
       "<tr bgcolor=\"#6699cc\" id=\"bar1\">\n",
       "</tr>\n",
       "</table>\n",
       "<table border=\"0\" width=\"97%\">\n",
       "<tr bgcolor=\"#eff7fe\" id=\"bar2\">\n",
       "<td>\n",
       "<span id=\"Label1\">Notice Number</span></td>\n",
       "<td><span id=\"lblNoticeNbr\">P64032</span></td>\n",
       "<td>\n",
       "<span id=\"Label2\">Violation Date</span></td>\n",
       "<td><span id=\"lblViolationDate\">7/1/2015</span></td>\n",
       "<td>\n",
       "<span id=\"Label3\">Issue Date</span></td>\n",
       "<td><span id=\"lblIssueDate\">10/12/2017</span></td>\n",
       "<td>\n",
       "<span id=\"Label4\">Notice Type</span></td>\n",
       "<td><span id=\"lblNoticeType\">NOV</span></td>\n",
       "</tr>\n",
       "</table>\n",
       "\t\t\t \n",
       "\t\t\t<table border=\"0\" cellpadding=\"1\" cellspacing=\"1\" id=\"Table2\" width=\"97%\">\n",
       "<tr>\n",
       "<td bgcolor=\"#eff7fe\">\n",
       "<table bgcolor=\"#eff7fe\" border=\"0\" cellpadding=\"1\" cellspacing=\"1\" id=\"detail\" width=\"650\">\n",
       "<tr>\n",
       "<td nowrap=\"nowrap\">\n",
       "<span id=\"Label5\">Facility ID</span></td>\n",
       "<td nowrap=\"nowrap\" width=\"20\"> </td>\n",
       "<td width=\"100%\">\n",
       "<span id=\"lblFacId\">800080</span></td>\n",
       "</tr>\n",
       "<tr>\n",
       "<td nowrap=\"nowrap\">\n",
       "<span id=\"Label6\">Company Name</span></td>\n",
       "<td nowrap=\"nowrap\" width=\"20\"> </td>\n",
       "<td width=\"100%\">\n",
       "<span id=\"lblFacName\">LUNDAY_THAGARD CO DBA WORLD OIL REFINING</span></td>\n",
       "</tr>\n",
       "<tr>\n",
       "<td nowrap=\"nowrap\" valign=\"top\">\n",
       "<span id=\"Label7\">Address</span></td>\n",
       "<td nowrap=\"nowrap\" width=\"20\"> </td>\n",
       "<td width=\"100%\">\n",
       "<span id=\"novAddress\">9301       GARFIELD      <br/>SOUTH GATE, CA 90280</span></td>\n",
       "</tr>\n",
       "<tr>\n",
       "<td nowrap=\"nowrap\" valign=\"top\">\n",
       "<span id=\"Label8\">Violation Description</span></td>\n",
       "<td nowrap=\"nowrap\" width=\"20\"> </td>\n",
       "<td width=\"100%\">\n",
       "<span id=\"lblViolationDesc\">Rule 3002(c)(1) Self reported Title V deviations. See attached table</span></td>\n",
       "</tr>\n",
       "<tr>\n",
       "<td nowrap=\"nowrap\">\n",
       "<span id=\"Label9\">Equipment Description</span></td>\n",
       "<td nowrap=\"nowrap\" width=\"20\"> </td>\n",
       "<td width=\"100%\">\n",
       "<span id=\"lblEquipmentDesc\"></span></td>\n",
       "</tr>\n",
       "<tr>\n",
       "<td nowrap=\"nowrap\">\n",
       "<span id=\"lblFollowUpSatusText\">Follow Up Status</span></td>\n",
       "<td nowrap=\"nowrap\" width=\"20\"> </td>\n",
       "<td width=\"100%\">\n",
       "<span id=\"lblFollowUpSatus\"><font color=\"Red\">In Compliance</font></span></td>\n",
       "</tr>\n",
       "<tr>\n",
       "<td id=\"lblDispCodeLabel\" nowrap=\"nowrap\"><b>Disposition</b></td>\n",
       "<td nowrap=\"nowrap\" width=\"20\"><img height=\"1\" src=\"spacer.gif\" width=\"1\"/></td>\n",
       "<td width=\"100%\">\n",
       "<span id=\"lblDispCode\"><font color=\"Red\"></font></span></td>\n",
       "</tr>\n",
       "<tr>\n",
       "<td nowrap=\"nowrap\">\n",
       "<span id=\"lblDispStatLabel\">Disposition Date</span></td>\n",
       "<td nowrap=\"nowrap\" width=\"20\"> </td>\n",
       "<td width=\"100%\">\n",
       "<span id=\"lblNovDispDate\"></span></td>\n",
       "</tr>\n",
       "<tr>\n",
       "<td nowrap=\"nowrap\"> </td>\n",
       "<td nowrap=\"nowrap\" width=\"20\"> </td>\n",
       "<td width=\"100%\">\n",
       "<table bgcolor=\"White\" border=\"1\" bordercolor=\"#999999\" cellpadding=\"3\" cellspacing=\"0\" class=\"DataGrid\" id=\"dgRuleViolated\" rules=\"cols\" width=\"100%\">\n",
       "<tr bgcolor=\"#000084\">\n",
       "<td nowrap=\"nowrap\"><font color=\"White\"><b>Rule No.</b></font></td><td><font color=\"White\"><b>Rule Description</b></font></td>\n",
       "</tr>\n",
       "</table>\n",
       "</td>\n",
       "</tr>\n",
       "</table>\n",
       "</td>\n",
       "</tr>\n",
       "</table>\n",
       "<table border=\"0\" cellpadding=\"1\" cellspacing=\"1\" id=\"Table1\" width=\"100%\">\n",
       "<tr>\n",
       "<td></td>\n",
       "</tr>\n",
       "</table>\n",
       "</form>\n",
       "<div id=\"AppTitle\">\n",
       "\t\t\tFacility INformation Detail (FIND)\n",
       "\t\t</div>\n",
       "<!-- Google Code -->\n",
       "<script type=\"text/javascript\">\n",
       "var gaJsHost = ((\"https:\" == document.location.protocol) ? \"https://ssl.\" : \"http://www.\");\n",
       "document.write(unescape(\"%3Cscript src='\" + gaJsHost + \"google-analytics.com/ga.js' type='text/javascript'%3E%3C/script%3E\"));\n",
       "</script>\n",
       "<script type=\"text/javascript\">\n",
       "var pageTracker = _gat._getTracker(\"UA-5978056-3\");\n",
       "pageTracker._trackPageview();\n",
       "</script>\n",
       "</body>\n",
       "</html>"
      ]
     },
     "execution_count": 12,
     "metadata": {},
     "output_type": "execute_result"
    }
   ],
   "source": [
    "page_soup"
   ]
  },
  {
   "cell_type": "code",
   "execution_count": 14,
   "metadata": {},
   "outputs": [
    {
     "data": {
      "text/plain": [
       "'Rule 3002(c)(1) Self reported Title V deviations. See attached table'"
      ]
     },
     "execution_count": 14,
     "metadata": {},
     "output_type": "execute_result"
    }
   ],
   "source": [
    "page_soup.find_all('span')[16].text"
   ]
  },
  {
   "cell_type": "code",
   "execution_count": null,
   "metadata": {
    "collapsed": true
   },
   "outputs": [],
   "source": []
  },
  {
   "cell_type": "code",
   "execution_count": null,
   "metadata": {
    "collapsed": true
   },
   "outputs": [],
   "source": []
  },
  {
   "cell_type": "code",
   "execution_count": null,
   "metadata": {
    "collapsed": true
   },
   "outputs": [],
   "source": []
  },
  {
   "cell_type": "code",
   "execution_count": null,
   "metadata": {
    "collapsed": true
   },
   "outputs": [],
   "source": []
  },
  {
   "cell_type": "code",
   "execution_count": 59,
   "metadata": {
    "collapsed": true
   },
   "outputs": [],
   "source": [
    "facilityID = '16389'\n",
    "novNum = 'P63680'"
   ]
  },
  {
   "cell_type": "code",
   "execution_count": 60,
   "metadata": {},
   "outputs": [],
   "source": [
    "connectionUrl = 'http://www3.aqmd.gov/webappl/fim/prog/novdetail.aspx?novid=%s&notice_type=NOV&fac_id=%s' % (novNum, facilityID)"
   ]
  },
  {
   "cell_type": "code",
   "execution_count": 61,
   "metadata": {},
   "outputs": [
    {
     "data": {
      "text/plain": [
       "'http://www3.aqmd.gov/webappl/fim/prog/novdetail.aspx?novid=P63680&notice_type=NOV&fac_id=16389'"
      ]
     },
     "execution_count": 61,
     "metadata": {},
     "output_type": "execute_result"
    }
   ],
   "source": [
    "connectionUrl"
   ]
  },
  {
   "cell_type": "code",
   "execution_count": 62,
   "metadata": {},
   "outputs": [],
   "source": [
    "url = 'http://www3.aqmd.gov/webappl/fim/prog/novdetail.aspx?novid=P63409&notice_type=NOV&fac_id=181667'"
   ]
  },
  {
   "cell_type": "code",
   "execution_count": 63,
   "metadata": {
    "collapsed": true
   },
   "outputs": [],
   "source": [
    "data1 = r.get(connectionUrl)"
   ]
  },
  {
   "cell_type": "code",
   "execution_count": 64,
   "metadata": {},
   "outputs": [],
   "source": [
    "page_soup = soup(data1.text, 'html.parser')"
   ]
  },
  {
   "cell_type": "code",
   "execution_count": 65,
   "metadata": {},
   "outputs": [
    {
     "data": {
      "text/plain": [
       "[<span id=\"lblTop\"><b>NOV/NC Details</b></span>,\n",
       " <span id=\"Label1\">Notice Number</span>,\n",
       " <span id=\"lblNoticeNbr\">P63680</span>,\n",
       " <span id=\"Label2\">Violation Date</span>,\n",
       " <span id=\"lblViolationDate\">9/1/2016</span>,\n",
       " <span id=\"Label3\">Issue Date</span>,\n",
       " <span id=\"lblIssueDate\">3/16/2017</span>,\n",
       " <span id=\"Label4\">Notice Type</span>,\n",
       " <span id=\"lblNoticeType\">NOV</span>,\n",
       " <span id=\"Label5\">Facility ID</span>,\n",
       " <span id=\"lblFacId\">16389</span>,\n",
       " <span id=\"Label6\">Company Name</span>,\n",
       " <span id=\"lblFacName\">CEDARS_SINAI MEDICAL CTR</span>,\n",
       " <span id=\"Label7\">Address</span>,\n",
       " <span id=\"novAddress\">8700       BEVERLY      <br/>LOS ANGELES, CA 90048</span>,\n",
       " <span id=\"Label8\">Violation Description</span>,\n",
       " <span id=\"lblViolationDesc\">Failure to timely submit the 1st 500 SAM.  Failure to perform emission checks at least every 45 days.  ICE exceeded 50 hours in any one year for maintenance and testing purposes.  </span>,\n",
       " <span id=\"Label9\">Equipment Description</span>,\n",
       " <span id=\"lblEquipmentDesc\">Detroit Diesel ICE and Trane Murray Boilers</span>,\n",
       " <span id=\"lblFollowUpSatusText\">Follow Up Status</span>,\n",
       " <span id=\"lblFollowUpSatus\"><font color=\"Red\">In Compliance</font></span>,\n",
       " <span id=\"lblDispCode\"><font color=\"Red\">Closed Case</font></span>,\n",
       " <span id=\"lblDispStatLabel\">Disposition Date</span>,\n",
       " <span id=\"lblNovDispDate\">12/20/2017</span>]"
      ]
     },
     "execution_count": 65,
     "metadata": {},
     "output_type": "execute_result"
    }
   ],
   "source": [
    "page_soup.find_all('span')"
   ]
  },
  {
   "cell_type": "code",
   "execution_count": 67,
   "metadata": {},
   "outputs": [
    {
     "data": {
      "text/plain": [
       "'Failure to timely submit the 1st 500 SAM.  Failure to perform emission checks at least every 45 days.  ICE exceeded 50 hours in any one year for maintenance and testing purposes.'"
      ]
     },
     "execution_count": 67,
     "metadata": {},
     "output_type": "execute_result"
    }
   ],
   "source": [
    "page_soup.find_all('span')[16].text.strip()"
   ]
  },
  {
   "cell_type": "code",
   "execution_count": 47,
   "metadata": {},
   "outputs": [
    {
     "data": {
      "text/plain": [
       "[<span id=\"lblTop\"><b>NOV/NC Details</b></span>,\n",
       " <span id=\"Label1\">Notice Number</span>,\n",
       " <span id=\"lblNoticeNbr\">P60582</span>,\n",
       " <span id=\"Label2\">Violation Date</span>,\n",
       " <span id=\"lblViolationDate\">7/26/2016</span>,\n",
       " <span id=\"Label3\">Issue Date</span>,\n",
       " <span id=\"lblIssueDate\">5/16/2017</span>,\n",
       " <span id=\"Label4\">Notice Type</span>,\n",
       " <span id=\"lblNoticeType\">NOV</span>,\n",
       " <span id=\"Label5\">Facility ID</span>,\n",
       " <span id=\"lblFacId\">115536</span>,\n",
       " <span id=\"Label6\">Company Name</span>,\n",
       " <span id=\"lblFacName\">AES REDONDO BEACH, LLC</span>,\n",
       " <span id=\"Label7\">Address</span>,\n",
       " <span id=\"novAddress\">1100 N.    HARBOR      <br/>REDONDO BEACH, CA 90277</span>,\n",
       " <span id=\"Label8\">Violation Description</span>,\n",
       " <span id=\"lblViolationDesc\">1. failed to comply with permit condition D12.5 on device C79 for exceeding the NH3 flow rate of 100 lbs/hr on 7_26_16 at 1300 hrs. 2) failed to perform linearity test check in the 2nd Qtr. of 2016.</span>,\n",
       " <span id=\"Label9\">Equipment Description</span>,\n",
       " <span id=\"lblEquipmentDesc\">C79, D6</span>,\n",
       " <span id=\"lblFollowUpSatusText\">Follow Up Status</span>,\n",
       " <span id=\"lblFollowUpSatus\"><font color=\"Red\">In Compliance</font></span>,\n",
       " <span id=\"lblDispCode\"><font color=\"Red\">Closed Case</font></span>,\n",
       " <span id=\"lblDispStatLabel\">Disposition Date</span>,\n",
       " <span id=\"lblNovDispDate\">12/21/2017</span>]"
      ]
     },
     "execution_count": 47,
     "metadata": {},
     "output_type": "execute_result"
    }
   ],
   "source": [
    "page_soup.find_all('span')"
   ]
  },
  {
   "cell_type": "code",
   "execution_count": null,
   "metadata": {
    "collapsed": true
   },
   "outputs": [],
   "source": []
  }
 ],
 "metadata": {
  "kernelspec": {
   "display_name": "Python 3",
   "language": "python",
   "name": "python3"
  },
  "language_info": {
   "codemirror_mode": {
    "name": "ipython",
    "version": 3
   },
   "file_extension": ".py",
   "mimetype": "text/x-python",
   "name": "python",
   "nbconvert_exporter": "python",
   "pygments_lexer": "ipython3",
   "version": "3.6.3"
  }
 },
 "nbformat": 4,
 "nbformat_minor": 2
}
