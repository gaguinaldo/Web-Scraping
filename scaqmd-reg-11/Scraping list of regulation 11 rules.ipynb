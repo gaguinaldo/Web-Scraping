{
 "cells": [
  {
   "cell_type": "code",
   "execution_count": 1,
   "metadata": {
    "collapsed": true
   },
   "outputs": [],
   "source": [
    "#Import dependencies.\n",
    "\n",
    "import requests as r\n",
    "from bs4 import BeautifulSoup as soup\n",
    "import pandas as pd"
   ]
  },
  {
   "cell_type": "code",
   "execution_count": 2,
   "metadata": {
    "collapsed": true
   },
   "outputs": [],
   "source": [
    "#URL to scrape.\n",
    "\n",
    "url = 'http://www.aqmd.gov/home/rules-compliance/rules/scaqmd-rule-book/regulation-xi'"
   ]
  },
  {
   "cell_type": "code",
   "execution_count": 3,
   "metadata": {
    "collapsed": true
   },
   "outputs": [],
   "source": [
    "#Make connection to page.\n",
    "\n",
    "page_data = r.get(url)"
   ]
  },
  {
   "cell_type": "code",
   "execution_count": 4,
   "metadata": {},
   "outputs": [
    {
     "data": {
      "text/plain": [
       "<Response [200]>"
      ]
     },
     "execution_count": 4,
     "metadata": {},
     "output_type": "execute_result"
    }
   ],
   "source": [
    "#Confirm that connection was successful.\n",
    "\n",
    "page_data"
   ]
  },
  {
   "cell_type": "code",
   "execution_count": 5,
   "metadata": {
    "collapsed": true
   },
   "outputs": [],
   "source": [
    "#Read in HTML into BeautifulSoup.\n",
    "\n",
    "page_soup = soup(page_data.text, 'html.parser')"
   ]
  },
  {
   "cell_type": "code",
   "execution_count": 6,
   "metadata": {},
   "outputs": [
    {
     "data": {
      "text/plain": [
       "'Dry Cleaners Using Solvent Other Than Perchloroethylene'"
      ]
     },
     "execution_count": 6,
     "metadata": {},
     "output_type": "execute_result"
    }
   ],
   "source": [
    "x = page_soup.find_all('p')[4]\n",
    "y = page_soup.find_all('p')[5]\n",
    "x.find('a')['href']\n",
    "y.text.split(' \\n')[0]"
   ]
  },
  {
   "cell_type": "code",
   "execution_count": 7,
   "metadata": {},
   "outputs": [
    {
     "name": "stdout",
     "output_type": "stream",
     "text": [
      "/docs/default-source/rule-book/reg-xi/rule-1101-secondary-lead-smelters-sulfur-oxides.pdf?sfvrsn=4\n",
      "---\n",
      "Secondary Lead Smelters/Sulfur Oxides\n",
      "(Adopted October 7, 1977)\n"
     ]
    }
   ],
   "source": [
    "num = 2\n",
    "x = page_soup.find_all('p')[num]\n",
    "y = page_soup.find_all('p')[num + 1]\n",
    "print(x.find('a')['href'])\n",
    "print('---')\n",
    "print(y.text)"
   ]
  },
  {
   "cell_type": "code",
   "execution_count": 8,
   "metadata": {},
   "outputs": [
    {
     "name": "stdout",
     "output_type": "stream",
     "text": [
      "/docs/default-source/rule-book/reg-xi/rule-1102-dry-cleaners-using-solvent-other-than-perchloreothylene.pdf?sfvrsn=4\n",
      "---\n",
      "Dry Cleaners Using Solvent Other Than Perchloroethylene \n",
      "(Amended November 17, 2000)\n"
     ]
    }
   ],
   "source": [
    "num = 4\n",
    "x = page_soup.find_all('p')[num]\n",
    "y = page_soup.find_all('p')[num + 1]\n",
    "print(x.find('a')['href'])\n",
    "print('---')\n",
    "print(y.text)"
   ]
  },
  {
   "cell_type": "code",
   "execution_count": 9,
   "metadata": {},
   "outputs": [
    {
     "name": "stdout",
     "output_type": "stream",
     "text": [
      "/docs/default-source/rule-book/reg-xi/rule-1102-1-perchloreothylene-dry-cleaning-systems.pdf?sfvrsn=4\n",
      "---\n",
      "Perchloroethylene Dry Cleaning Systems\n",
      "(Repealed December 9, 1994) (See Rule 1421)\n"
     ]
    }
   ],
   "source": [
    "num = 6\n",
    "x = page_soup.find_all('p')[num]\n",
    "y = page_soup.find_all('p')[num + 1]\n",
    "print(x.find('a')['href'])\n",
    "print('---')\n",
    "print(y.text)"
   ]
  },
  {
   "cell_type": "code",
   "execution_count": 10,
   "metadata": {},
   "outputs": [
    {
     "data": {
      "text/plain": [
       "<p><a href=\"/docs/default-source/rule-book/reg-xi/rule-1196.pdf?sfvrsn=6\" title=\"Rule 1196\">Rule 1196 <br/>\n",
       "</a>(PDF)</p>"
      ]
     },
     "execution_count": 10,
     "metadata": {},
     "output_type": "execute_result"
    }
   ],
   "source": [
    "page_soup.find_all('p')[208]"
   ]
  },
  {
   "cell_type": "code",
   "execution_count": 11,
   "metadata": {},
   "outputs": [
    {
     "data": {
      "text/plain": [
       "<p><a href=\"/docs/default-source/rule-book/reg-xi/rule-1107.pdf?sfvrsn=4\">Rule 1107 <br/>\n",
       "</a>(PDF)</p>"
      ]
     },
     "execution_count": 11,
     "metadata": {},
     "output_type": "execute_result"
    }
   ],
   "source": [
    "page_soup.find_all('p')[20]"
   ]
  },
  {
   "cell_type": "code",
   "execution_count": 12,
   "metadata": {
    "collapsed": true
   },
   "outputs": [],
   "source": [
    "df_reg_11 = pd.DataFrame()\n",
    "for num in range(2, 208 + 1, 2):\n",
    "    \n",
    "    x = page_soup.find_all('p')[num]\n",
    "    y = page_soup.find_all('p')[num + 1]\n",
    "    \n",
    "    rule_url = x.find('a')['href']\n",
    "    rule_name = x.text.split('\\n')[0].split('\\xa0')[0]\n",
    "    rule_text = y.text.split('\\n')[0]\n",
    "    raw_amend_date = y.text.split('\\n')[1]\n",
    "    amend_date = raw_amend_date[raw_amend_date.find('(') + 1 : raw_amend_date.find(')')]\n",
    "    \n",
    "    df_reg_11 = df_reg_11.append(pd.DataFrame(\n",
    "        {\n",
    "        'rule_number': rule_name, \n",
    "        'rule_text': rule_text, \n",
    "        'amend_date': amend_date, \n",
    "        'full_url': 'http://www.aqmd.gov' + rule_url\n",
    "         }, index = [0]), ignore_index = True)"
   ]
  },
  {
   "cell_type": "code",
   "execution_count": 13,
   "metadata": {},
   "outputs": [
    {
     "data": {
      "text/html": [
       "<div>\n",
       "<style>\n",
       "    .dataframe thead tr:only-child th {\n",
       "        text-align: right;\n",
       "    }\n",
       "\n",
       "    .dataframe thead th {\n",
       "        text-align: left;\n",
       "    }\n",
       "\n",
       "    .dataframe tbody tr th {\n",
       "        vertical-align: top;\n",
       "    }\n",
       "</style>\n",
       "<table border=\"1\" class=\"dataframe\">\n",
       "  <thead>\n",
       "    <tr style=\"text-align: right;\">\n",
       "      <th></th>\n",
       "      <th>amend_date</th>\n",
       "      <th>full_url</th>\n",
       "      <th>rule_number</th>\n",
       "      <th>rule_text</th>\n",
       "    </tr>\n",
       "  </thead>\n",
       "  <tbody>\n",
       "    <tr>\n",
       "      <th>0</th>\n",
       "      <td>Adopted October 7, 1977</td>\n",
       "      <td>http://www.aqmd.gov/docs/default-source/rule-b...</td>\n",
       "      <td>Rule 1101</td>\n",
       "      <td>Secondary Lead Smelters/Sulfur Oxides</td>\n",
       "    </tr>\n",
       "    <tr>\n",
       "      <th>1</th>\n",
       "      <td>Amended November 17, 2000</td>\n",
       "      <td>http://www.aqmd.gov/docs/default-source/rule-b...</td>\n",
       "      <td>Rule 1102</td>\n",
       "      <td>Dry Cleaners Using Solvent Other Than Perchlor...</td>\n",
       "    </tr>\n",
       "    <tr>\n",
       "      <th>2</th>\n",
       "      <td>Repealed December 9, 1994</td>\n",
       "      <td>http://www.aqmd.gov/docs/default-source/rule-b...</td>\n",
       "      <td>Rule 1102.1</td>\n",
       "      <td>Perchloroethylene Dry Cleaning Systems</td>\n",
       "    </tr>\n",
       "    <tr>\n",
       "      <th>3</th>\n",
       "      <td>Amended March 12, 1999</td>\n",
       "      <td>http://www.aqmd.gov/docs/default-source/rule-b...</td>\n",
       "      <td>Rule 1103</td>\n",
       "      <td>Pharmaceuticals and Cosmetics Manufacturing Op...</td>\n",
       "    </tr>\n",
       "    <tr>\n",
       "      <th>4</th>\n",
       "      <td>Amended August 13, 1999</td>\n",
       "      <td>http://www.aqmd.gov/docs/default-source/rule-b...</td>\n",
       "      <td>Rule 1104</td>\n",
       "      <td>Wood Flat Stock Coating Operations</td>\n",
       "    </tr>\n",
       "  </tbody>\n",
       "</table>\n",
       "</div>"
      ],
      "text/plain": [
       "                  amend_date  \\\n",
       "0    Adopted October 7, 1977   \n",
       "1  Amended November 17, 2000   \n",
       "2  Repealed December 9, 1994   \n",
       "3     Amended March 12, 1999   \n",
       "4    Amended August 13, 1999   \n",
       "\n",
       "                                            full_url   rule_number  \\\n",
       "0  http://www.aqmd.gov/docs/default-source/rule-b...    Rule 1101    \n",
       "1  http://www.aqmd.gov/docs/default-source/rule-b...    Rule 1102    \n",
       "2  http://www.aqmd.gov/docs/default-source/rule-b...  Rule 1102.1    \n",
       "3  http://www.aqmd.gov/docs/default-source/rule-b...    Rule 1103    \n",
       "4  http://www.aqmd.gov/docs/default-source/rule-b...     Rule 1104   \n",
       "\n",
       "                                           rule_text  \n",
       "0              Secondary Lead Smelters/Sulfur Oxides  \n",
       "1  Dry Cleaners Using Solvent Other Than Perchlor...  \n",
       "2             Perchloroethylene Dry Cleaning Systems  \n",
       "3  Pharmaceuticals and Cosmetics Manufacturing Op...  \n",
       "4                Wood Flat Stock Coating Operations   "
      ]
     },
     "execution_count": 13,
     "metadata": {},
     "output_type": "execute_result"
    }
   ],
   "source": [
    "df_reg_11.head()"
   ]
  },
  {
   "cell_type": "code",
   "execution_count": 14,
   "metadata": {},
   "outputs": [],
   "source": [
    "df_reg_11.to_csv('reg_11.csv')"
   ]
  },
  {
   "cell_type": "code",
   "execution_count": null,
   "metadata": {
    "collapsed": true
   },
   "outputs": [],
   "source": []
  }
 ],
 "metadata": {
  "kernelspec": {
   "display_name": "Python 3",
   "language": "python",
   "name": "python3"
  },
  "language_info": {
   "codemirror_mode": {
    "name": "ipython",
    "version": 3
   },
   "file_extension": ".py",
   "mimetype": "text/x-python",
   "name": "python",
   "nbconvert_exporter": "python",
   "pygments_lexer": "ipython3",
   "version": "3.6.3"
  }
 },
 "nbformat": 4,
 "nbformat_minor": 2
}
