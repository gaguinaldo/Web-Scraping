{
 "cells": [
  {
   "cell_type": "code",
   "execution_count": null,
   "metadata": {},
   "outputs": [],
   "source": [
    "import pandas as pd\n",
    "import requests as r\n",
    "from bs4 import BeautifulSoup as soup"
   ]
  },
  {
   "cell_type": "code",
   "execution_count": null,
   "metadata": {
    "collapsed": true
   },
   "outputs": [],
   "source": [
    "url = 'http://www.aqmd.gov/home/rules-compliance/rules/scaqmd-rule-book'"
   ]
  },
  {
   "cell_type": "code",
   "execution_count": null,
   "metadata": {
    "collapsed": true
   },
   "outputs": [],
   "source": [
    "page = r.get(url)"
   ]
  },
  {
   "cell_type": "code",
   "execution_count": null,
   "metadata": {},
   "outputs": [],
   "source": [
    "page"
   ]
  },
  {
   "cell_type": "code",
   "execution_count": null,
   "metadata": {},
   "outputs": [],
   "source": [
    "page_soup = soup(page.text, 'html.parser')"
   ]
  },
  {
   "cell_type": "code",
   "execution_count": null,
   "metadata": {},
   "outputs": [],
   "source": [
    "i_record = page_soup.find_all('p')[6]\n",
    "url_link = i_record.find('a')['href']\n",
    "url_text = i_record.find('a').text"
   ]
  },
  {
   "cell_type": "code",
   "execution_count": null,
   "metadata": {},
   "outputs": [],
   "source": [
    "url_link = i_record.find('a')['href']\n",
    "url_link"
   ]
  },
  {
   "cell_type": "code",
   "execution_count": null,
   "metadata": {},
   "outputs": [],
   "source": [
    "url_text = i_record.find('a').text\n",
    "url_text"
   ]
  },
  {
   "cell_type": "code",
   "execution_count": null,
   "metadata": {},
   "outputs": [],
   "source": [
    "page_soup.find_all('p')[9]"
   ]
  },
  {
   "cell_type": "code",
   "execution_count": null,
   "metadata": {},
   "outputs": [],
   "source": [
    "page_soup.find_all('p')[12]"
   ]
  },
  {
   "cell_type": "code",
   "execution_count": null,
   "metadata": {},
   "outputs": [],
   "source": [
    "page_soup.find_all('p')[84]"
   ]
  },
  {
   "cell_type": "code",
   "execution_count": null,
   "metadata": {},
   "outputs": [],
   "source": [
    "page_soup.find_all('p')[87]"
   ]
  },
  {
   "cell_type": "code",
   "execution_count": null,
   "metadata": {},
   "outputs": [],
   "source": [
    "page_soup.find_all('p')[5].text"
   ]
  },
  {
   "cell_type": "code",
   "execution_count": null,
   "metadata": {},
   "outputs": [],
   "source": [
    "url_text_df1 = pd.DataFrame()\n",
    "for num in range(6, 21, 3):\n",
    "    record = page_soup.find_all('p')[num]\n",
    "    url_link = record.find('a')['href']\n",
    "    url_text = record.find('a').text\n",
    "    record_title = page_soup.find_all('p')[num-1].text\n",
    "    regulation_num = page_soup.find_all('p')[num-2].text\n",
    "    url_text_df1 = url_text_df1.append(pd.DataFrame({'reg_num': regulation_num.split('\\xa0')[0], 'name': record_title.split('\\xa0')[0], 'rule': url_text.replace(' â€“', '-'), 'url':url_link}, index = [0]), ignore_index=True)\n",
    "url_text_df1"
   ]
  },
  {
   "cell_type": "code",
   "execution_count": null,
   "metadata": {},
   "outputs": [],
   "source": [
    "url_text_df2 = pd.DataFrame()\n",
    "for num in range(24, 57, 3):\n",
    "    record = page_soup.find_all('p')[num]\n",
    "    url_link = record.find('a')['href']\n",
    "    url_text = record.find('a').text\n",
    "    record_title = page_soup.find_all('p')[num-1].text\n",
    "    regulation_num = page_soup.find_all('p')[num-2].text\n",
    "    url_text_df2 = url_text_df2.append(pd.DataFrame({'reg_num': regulation_num.split('\\xa0')[0], 'name': record_title.split('\\xa0')[0], 'rule': url_text.replace('â€“', '-'), 'url':url_link}, index = [0]), ignore_index=True)\n",
    "url_text_df2"
   ]
  },
  {
   "cell_type": "code",
   "execution_count": null,
   "metadata": {},
   "outputs": [],
   "source": [
    "page_soup.find_all('p')[60]"
   ]
  },
  {
   "cell_type": "code",
   "execution_count": null,
   "metadata": {},
   "outputs": [],
   "source": [
    "url_text_df3 = pd.DataFrame()\n",
    "for num in range(60, 90, 3):\n",
    "    record = page_soup.find_all('p')[num]\n",
    "    url_link = record.find('a')['href']\n",
    "    url_text = record.find('a').text\n",
    "    record_title = page_soup.find_all('p')[num-1].text\n",
    "    regulation_num = page_soup.find_all('p')[num-2].text\n",
    "    url_text_df3 = url_text_df3.append(pd.DataFrame({'reg_num': regulation_num.split('\\xa0')[0], 'name': record_title.split('\\xa0')[0], 'rule': url_text.replace('â€“', '-'), 'url':url_link}, index = [0]), ignore_index=True)\n",
    "url_text_df3"
   ]
  },
  {
   "cell_type": "code",
   "execution_count": null,
   "metadata": {},
   "outputs": [],
   "source": [
    "frames = [url_text_df1, url_text_df2, url_text_df3]\n",
    "df = pd.concat(frames)"
   ]
  },
  {
   "cell_type": "code",
   "execution_count": null,
   "metadata": {},
   "outputs": [],
   "source": [
    "df['full_url'] = 'http://www.aqmd.gov' + df['url']"
   ]
  },
  {
   "cell_type": "code",
   "execution_count": null,
   "metadata": {},
   "outputs": [],
   "source": [
    "df = df.drop(['url'], axis = 1)"
   ]
  },
  {
   "cell_type": "code",
   "execution_count": null,
   "metadata": {},
   "outputs": [],
   "source": [
    "df.head(10)"
   ]
  },
  {
   "cell_type": "code",
   "execution_count": null,
   "metadata": {},
   "outputs": [],
   "source": [
    "df_rules_toc = df.reset_index(drop=True)"
   ]
  },
  {
   "cell_type": "code",
   "execution_count": null,
   "metadata": {},
   "outputs": [],
   "source": [
    "df_rules_toc.iloc[3]['rule'].replace('\\xa0', ' ')"
   ]
  },
  {
   "cell_type": "code",
   "execution_count": null,
   "metadata": {},
   "outputs": [],
   "source": [
    "df_rules_toc.iloc[4]['rule'].split('â€“')[0]"
   ]
  },
  {
   "cell_type": "code",
   "execution_count": null,
   "metadata": {},
   "outputs": [],
   "source": [
    "df_rules_toc = df_rules_toc.set_value(4, ['rule'], df_rules_toc.iloc[4]['rule'].split('â€“')[0])"
   ]
  },
  {
   "cell_type": "code",
   "execution_count": null,
   "metadata": {},
   "outputs": [],
   "source": [
    "df_rules_toc = df_rules_toc.set_value(3, ['rule'], df_rules_toc.iloc[3]['rule'].replace('\\xa0', ' '))"
   ]
  },
  {
   "cell_type": "code",
   "execution_count": null,
   "metadata": {
    "collapsed": true
   },
   "outputs": [],
   "source": [
    "df_rules_toc.to_csv('aqmd_rules_toc.csv')"
   ]
  },
  {
   "cell_type": "code",
   "execution_count": null,
   "metadata": {},
   "outputs": [],
   "source": [
    "df_rules_toc.head(25)"
   ]
  },
  {
   "cell_type": "code",
   "execution_count": null,
   "metadata": {
    "collapsed": true
   },
   "outputs": [],
   "source": []
  }
 ],
 "metadata": {
  "kernelspec": {
   "display_name": "Python 3",
   "language": "python",
   "name": "python3"
  },
  "language_info": {
   "codemirror_mode": {
    "name": "ipython",
    "version": 3
   },
   "file_extension": ".py",
   "mimetype": "text/x-python",
   "name": "python",
   "nbconvert_exporter": "python",
   "pygments_lexer": "ipython3",
   "version": "3.6.3"
  }
 },
 "nbformat": 4,
 "nbformat_minor": 2
}
