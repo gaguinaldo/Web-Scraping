{
 "cells": [
  {
   "cell_type": "code",
   "execution_count": 50,
   "metadata": {
    "collapsed": false
   },
   "outputs": [],
   "source": [
    "#Standard Imports\n",
    "import pandas as pd\n",
    "import requests\n",
    "from bs4 import BeautifulSoup as soup\n",
    "\n",
    "#Script to scrape the review text as well as the numerical value of the stars\n",
    "\n",
    "\n",
    "url2 = \"https://www.yelp.com/biz/monkey-house-cafe-huntington-beach?start=%s\" % page_num\n",
    "\n",
    "r = requests.get(url2)\n",
    "page_soup = soup(r.content, \"html.parser\")\n",
    "\n",
    "review_container = page_soup.find_all(\"div\", {\"class\": \"review-content\"})\n",
    "\n",
    "reviewlist = [review.p.text for review in review_container]"
   ]
  },
  {
   "cell_type": "code",
   "execution_count": null,
   "metadata": {
    "collapsed": false
   },
   "outputs": [],
   "source": [
    "columns = {'Review': reviewlist}\n",
    "df = pd.DataFrame(columns)"
   ]
  },
  {
   "cell_type": "code",
   "execution_count": 49,
   "metadata": {
    "collapsed": false
   },
   "outputs": [
    {
     "data": {
      "text/plain": [
       "0     So far, so good!This place is right across the...\n",
       "1     I'm done, Monkey House.  You went from a great...\n",
       "2     Decent spot to get some work done if you don't...\n",
       "3     Came in on a friday afternoon, i had forgotten...\n",
       "4     I was really excited to come try this place af...\n",
       "5     (18/100) Nice local affordable sandwich shop. ...\n",
       "6     Nothing to write home about. I thought with th...\n",
       "7     What a pleasant surprise!!! I've been wanting ...\n",
       "8     The radio music was a tad disturbing especiall...\n",
       "9     Great food breakfast and lunch. I've been comi...\n",
       "10    Meh. On the pastrami panini. Pre-sliced deli m...\n",
       "11    One of my favorite indy coffee shops in the ar...\n",
       "12    Obsessed with their pick two veggie sandwich a...\n",
       "13    While the coffee was fantastic here, I mean ve...\n",
       "14    The place is nice and the people are friendly....\n",
       "15    Was honestly skeptical when my boyfriend pulle...\n",
       "16    After dropping off my dad's car for service on...\n",
       "17    Love this place! Their peanut butter mocha esp...\n",
       "18    Ordered a veggie breakfast bagel sandwich (egg...\n",
       "19    This place is the ideal mamma and papa establi...\n",
       "Name: Review, dtype: object"
      ]
     },
     "execution_count": 49,
     "metadata": {},
     "output_type": "execute_result"
    }
   ],
   "source": [
    "df['Review']"
   ]
  },
  {
   "cell_type": "code",
   "execution_count": null,
   "metadata": {
    "collapsed": true
   },
   "outputs": [],
   "source": []
  }
 ],
 "metadata": {
  "anaconda-cloud": {},
  "kernelspec": {
   "display_name": "Python [conda root]",
   "language": "python",
   "name": "conda-root-py"
  },
  "language_info": {
   "codemirror_mode": {
    "name": "ipython",
    "version": 3
   },
   "file_extension": ".py",
   "mimetype": "text/x-python",
   "name": "python",
   "nbconvert_exporter": "python",
   "pygments_lexer": "ipython3",
   "version": "3.5.2"
  }
 },
 "nbformat": 4,
 "nbformat_minor": 0
}
