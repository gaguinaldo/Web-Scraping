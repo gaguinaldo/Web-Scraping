{
 "cells": [
  {
   "cell_type": "code",
   "execution_count": 1,
   "metadata": {
    "collapsed": true
   },
   "outputs": [],
   "source": [
    "#Import dependencies.\n",
    "\n",
    "import requests as r\n",
    "from bs4 import BeautifulSoup as soup\n",
    "import pandas as pd"
   ]
  },
  {
   "cell_type": "code",
   "execution_count": 2,
   "metadata": {
    "collapsed": true
   },
   "outputs": [],
   "source": [
    "#URL to scrape.\n",
    "\n",
    "url = 'http://www.enchantedlearning.com/history/us/pres/list.shtml'"
   ]
  },
  {
   "cell_type": "code",
   "execution_count": 3,
   "metadata": {
    "collapsed": true
   },
   "outputs": [],
   "source": [
    "#Make connection to page.\n",
    "\n",
    "page_data = r.get(url)"
   ]
  },
  {
   "cell_type": "code",
   "execution_count": 4,
   "metadata": {},
   "outputs": [
    {
     "data": {
      "text/plain": [
       "<Response [200]>"
      ]
     },
     "execution_count": 4,
     "metadata": {},
     "output_type": "execute_result"
    }
   ],
   "source": [
    "#Confirm that connection was successful.\n",
    "\n",
    "page_data"
   ]
  },
  {
   "cell_type": "code",
   "execution_count": 5,
   "metadata": {
    "collapsed": true
   },
   "outputs": [],
   "source": [
    "#Read in HTML into BeautifulSoup.\n",
    "\n",
    "page_soup = soup(page_data.text, 'html.parser')"
   ]
  },
  {
   "cell_type": "code",
   "execution_count": 6,
   "metadata": {},
   "outputs": [
    {
     "data": {
      "text/plain": [
       "<table border=\"1\" cellpadding=\"1\" cellspacing=\"1\" width=\"100%\"><tr align=\"center\"> <th>President</th> <th>Party</th> <th>Term as President</th> <th>Vice-President</th> </tr><tr> <td>1. <a href=\"/history/us/pres/washington/\">George Washington</a> (1732-1799)</td> <td>None, Federalist</td> <td>1789-1797</td> <td><a href=\"/history/us/pres/adams/\">John Adams</a></td> </tr><tr> <td>2. <a href=\"/history/us/pres/adams/\">John Adams</a> (1735-1826)</td> <td>Federalist</td> <td>1797-1801</td> <td><a href=\"/history/us/pres/jefferson/\" target=\"_top\">Thomas Jefferson</a></td> </tr><tr> <td>3. <a href=\"/history/us/pres/jefferson/\" target=\"_top\">Thomas Jefferson</a> (1743-1826)</td> <td>Democratic-Republican</td> <td>1801-1809</td> <td>Aaron Burr, George Clinton</td> </tr><tr> <td>4. <a href=\"/history/us/pres/madison/\" target=\"_top\">James Madison</a> (1751-1836)</td> <td>Democratic-Republican</td> <td>1809-1817</td> <td>George Clinton, Elbridge Gerry</td> </tr><tr> <td>5. James Monroe (1758-1831)</td> <td>Democratic-Republican</td> <td>1817-1825</td> <td>Daniel Tompkins</td> </tr><tr> <td>6. <a href=\"/history/us/pres/adamsjq/\" target=\"_top\">John Quincy Adams</a> (1767-1848)</td> <td>Democratic-Republican</td> <td>1825-1829</td> <td>John Calhoun</td> </tr><tr> <td>7. Andrew Jackson (1767-1845)</td> <td>Democrat</td> <td>1829-1837</td> <td>John Calhoun, Martin van Buren</td> </tr><tr> <td>8. Martin van Buren (1782-1862)</td> <td>Democrat</td> <td>1837-1841</td> <td>Richard Johnson</td> </tr><tr> <td>9. William H. Harrison (1773-1841)</td> <td>Whig</td> <td>1841</td> <td>John Tyler</td> </tr><tr> <td>10. John Tyler (1790-1862)</td> <td>Whig</td> <td>1841-1845</td> <td><font color=\"#ffffff\">.</font></td> </tr><tr> <td>11. James K. Polk (1795-1849)</td> <td>Democrat</td> <td>1845-1849</td> <td>George Dallas</td> </tr><tr> <td>12. Zachary Taylor (1784-1850)</td> <td>Whig</td> <td>1849-1850</td> <td>Millard Fillmore</td> </tr><tr> <td>13. Millard Fillmore (1800-1874)</td> <td>Whig</td> <td>1850-1853</td> <td><font color=\"#ffffff\">.</font></td> </tr><tr> <td>14. Franklin Pierce (1804-1869)</td> <td>Democrat</td> <td>1853-1857</td> <td>William King</td> </tr><tr> <td>15. James Buchanan (1791-1868)</td> <td>Democrat</td> <td>1857-1861</td> <td>John Breckinridge</td> </tr><tr> <td>16. <a href=\"/history/us/pres/lincoln/\">Abraham Lincoln</a> (1809-1865)</td> <td>Republican</td> <td>1861-1865</td> <td>Hannibal Hamlin, Andrew Johnson</td> </tr><tr> <td>17. Andrew Johnson (1808-1875)</td> <td>National Union</td> <td>1865-1869</td> <td><font color=\"#ffffff\">.</font></td> </tr><tr> <td>18. Ulysses S. Grant (1822-1885)</td> <td>Republican</td> <td>1869-1877</td> <td>Schuyler Colfax</td> </tr><tr> <td>19. Rutherford Hayes (1822-1893)</td> <td>Republican</td> <td>1877-1881</td> <td>William Wheeler</td> </tr><tr> <td>20. James Garfield (1831-1881)</td> <td>Republican</td> <td>1881</td> <td>Chester Arthur</td> </tr><tr> <td>21. Chester Arthur (1829-1886)</td> <td>Republican</td> <td>1881-1885</td> <td><font color=\"#ffffff\">.</font></td> </tr><tr> <td>22. Grover Cleveland (1837-1908)</td> <td>Democrat</td> <td>1885-1889</td> <td>Thomas Hendriks</td> </tr><tr> <td>23. Benjamin Harrison (1833-1901)</td> <td>Republican</td> <td>1889-1893</td> <td>Levi Morton</td> </tr><tr> <td>24. Grover Cleveland (1837-1908)</td> <td>Democrat</td> <td>1893-1897</td> <td>Adlai Stevenson</td> </tr><tr> <td>25. William McKinley (1843-1901)</td> <td>Republican</td> <td>1897-1901</td> <td>Garret Hobart, Theodore Roosevelt</td> </tr><tr> <td>26. Theodore Roosevelt (1858-1919)</td> <td>Republican</td> <td>1901-1909</td> <td>Charles Fairbanks</td> </tr><tr> <td>27. William Taft (1857-1930)</td> <td>Republican</td> <td>1909-1913</td> <td>James Sherman</td> </tr><tr> <td>28. Woodrow Wilson (1856-1924)</td> <td>Democrat</td> <td>1913-1921</td> <td>Thomas Marshall</td> </tr><tr> <td>29. Warren Harding (1865-1923)</td> <td>Republican</td> <td>1921-1923</td> <td>Calvin Coolidge</td> </tr><tr> <td>30. Calvin Coolidge (1872-1933)</td> <td>Republican</td> <td>1923-1929</td> <td>Charles Dawes</td> </tr><tr> <td>31. Herbert C. Hoover (1874-1964)</td> <td>Republican</td> <td>1929-1933</td> <td>Charles Curtis</td> </tr><tr> <td>32. <a href=\"/history/us/bioprintouts/fdr/\" target=\"_top\">Franklin Delano Roosevelt</a> (1882-1945)</td> <td>Democrat</td> <td>1933-1945</td> <td>John Garner, Henry Wallace, Harry S. Truman</td> </tr><tr> <td>33. Harry S Truman (1884-1972)</td> <td>Democrat</td> <td>1945-1953</td> <td>Alben Barkley</td> </tr><tr> <td>34. <a href=\"/history/us/bioprintouts/eisenhower/\" target=\"_top\">Dwight David Eisenhower</a> (1890-1969)</td> <td>Republican</td> <td>1953-1961</td> <td>Richard Milhous Nixon</td> </tr><tr> <td>35. <a href=\"/history/us/bioprintouts/kennedy/\" target=\"_top\">John Fitzgerald Kennedy</a> (1917-1963)</td> <td>Democrat</td> <td>1961-1963</td> <td>Lyndon Johnson</td> </tr><tr> <td>36. Lyndon Baines Johnson (1908-1973)</td> <td>Democrat</td> <td>1963-1969</td> <td>Hubert Humphrey</td> </tr><tr> <td>37.  Richard Milhous Nixon (1913-1994)</td> <td>Republican</td> <td>1969-1974</td> <td>Spiro Agnew, <a href=\"/readandanswer/presidents/ford/\" target=\"_top\">Gerald R. Ford</a></td> </tr><tr> <td>38. <a href=\"/readandanswer/presidents/ford/\" target=\"_top\">Gerald R. Ford</a> (1913- 2006)</td> <td>Republican</td> <td>1974-1977</td> <td>Nelson Rockefeller</td> </tr><tr> <td>39. James (Jimmy) Earl Carter, Jr. (1924- )</td> <td>Democrat</td> <td>1977-1981</td> <td>Walter Mondale</td> </tr><tr> <td>40. <a href=\"/history/us/pres/reagan/\" target=\"_top\">Ronald Wilson Reagan</a> (1911- 2004)</td> <td>Republican</td> <td>1981-1989</td> <td>George H. W. Bush</td> </tr><tr> <td>41. George H. W. Bush (1924- )</td> <td>Republican</td> <td>1989-1993</td> <td>James Danforth (Dan) Quayle</td> </tr><tr> <td>42. William (Bill) Jefferson Clinton (1946- )</td> <td>Democrat</td> <td>1993-2001</td> <td>Al Gore</td> </tr><tr> <td>43. <a href=\"/history/us/pres/bush/\">George W. Bush</a> (1946- )</td> <td>Republican</td> <td>2001-2009</td> <td>Richard Cheney</td> </tr><tr> <td>44. <a href=\"/history/us/pres/obama/\">Barack Obama</a> (1961- )</td> <td> Democrat </td> <td>2009-2017</td> <td>Joseph Biden</td>\n",
       "</tr><tr>\n",
       "<td>45. <a href=\"/history/us/pres/trump/\">Donald Trump</a> (1946- )</td> <td> Republican </td> <td>2017-  </td> <td>Michael (Mike) Pence</td> </tr></table>"
      ]
     },
     "execution_count": 6,
     "metadata": {},
     "output_type": "execute_result"
    }
   ],
   "source": [
    "#Find the table containing the list of presidents.\n",
    "\n",
    "page_soup.find_all('table')[8]"
   ]
  },
  {
   "cell_type": "code",
   "execution_count": 7,
   "metadata": {
    "collapsed": true
   },
   "outputs": [],
   "source": [
    "#Store data of the presidents into a variable\n",
    "\n",
    "page_data = page_soup.find_all('table')[8]"
   ]
  },
  {
   "cell_type": "code",
   "execution_count": 8,
   "metadata": {},
   "outputs": [
    {
     "data": {
      "text/plain": [
       "<tr> <td>1. <a href=\"/history/us/pres/washington/\">George Washington</a> (1732-1799)</td> <td>None, Federalist</td> <td>1789-1797</td> <td><a href=\"/history/us/pres/adams/\">John Adams</a></td> </tr>"
      ]
     },
     "execution_count": 8,
     "metadata": {},
     "output_type": "execute_result"
    }
   ],
   "source": [
    "#Find the first entry of the table that contains the desired data.  In this case, George Washington\n",
    "\n",
    "table_data = page_data.find_all('tr')[1]\n",
    "table_data"
   ]
  },
  {
   "cell_type": "code",
   "execution_count": 9,
   "metadata": {},
   "outputs": [
    {
     "data": {
      "text/plain": [
       "'1. George Washington (1732-1799)'"
      ]
     },
     "execution_count": 9,
     "metadata": {},
     "output_type": "execute_result"
    }
   ],
   "source": [
    "#Parse out the name of the first president from the first entry of the HTML table.\n",
    "\n",
    "prez_name = table_data.find_all('td')[0].text\n",
    "prez_name"
   ]
  },
  {
   "cell_type": "code",
   "execution_count": 10,
   "metadata": {},
   "outputs": [
    {
     "data": {
      "text/plain": [
       "'None, Federalist'"
      ]
     },
     "execution_count": 10,
     "metadata": {},
     "output_type": "execute_result"
    }
   ],
   "source": [
    "#Parse out the name of the party of the president from the first entry of the HTML table.\n",
    "\n",
    "prez_party = table_data.find_all('td')[1].text\n",
    "prez_party"
   ]
  },
  {
   "cell_type": "code",
   "execution_count": 11,
   "metadata": {},
   "outputs": [
    {
     "data": {
      "text/plain": [
       "'1789-1797'"
      ]
     },
     "execution_count": 11,
     "metadata": {},
     "output_type": "execute_result"
    }
   ],
   "source": [
    "#Parse out the term of the president from the first entry of the HTML table.\n",
    "\n",
    "prez_years = table_data.find_all('td')[2].text\n",
    "prez_years"
   ]
  },
  {
   "cell_type": "code",
   "execution_count": 12,
   "metadata": {},
   "outputs": [
    {
     "data": {
      "text/plain": [
       "'John Adams'"
      ]
     },
     "execution_count": 12,
     "metadata": {},
     "output_type": "execute_result"
    }
   ],
   "source": [
    "#Parse out the term of the vice president from the first entry of the HTML table.\n",
    "\n",
    "vice_prez = table_data.find_all('td')[3].text\n",
    "vice_prez "
   ]
  },
  {
   "cell_type": "code",
   "execution_count": 13,
   "metadata": {
    "collapsed": true
   },
   "outputs": [],
   "source": [
    "#Create empty Pandas DataFrame.\n",
    "\n",
    "prez_df = pd.DataFrame()\n",
    "\n",
    "#For all entries in the table, loop through and store the data into the new Pandas DataFrame.\n",
    "\n",
    "for prez in range(1, 45 + 1):\n",
    "    table_data = page_data.find_all('tr')[prez]\n",
    "    prez_name = table_data.find_all('td')[0].text\n",
    "    prez_party = table_data.find_all('td')[1].text\n",
    "    prez_years = table_data.find_all('td')[2].text\n",
    "    vice_prez = table_data.find_all('td')[3].text\n",
    "    prez_df = prez_df.append(pd.DataFrame({'name': prez_name, 'party': prez_party, 'term': prez_years, 'vice_president': vice_prez},index=[0]),ignore_index = True)"
   ]
  },
  {
   "cell_type": "code",
   "execution_count": 14,
   "metadata": {},
   "outputs": [
    {
     "data": {
      "text/html": [
       "<div>\n",
       "<style>\n",
       "    .dataframe thead tr:only-child th {\n",
       "        text-align: right;\n",
       "    }\n",
       "\n",
       "    .dataframe thead th {\n",
       "        text-align: left;\n",
       "    }\n",
       "\n",
       "    .dataframe tbody tr th {\n",
       "        vertical-align: top;\n",
       "    }\n",
       "</style>\n",
       "<table border=\"1\" class=\"dataframe\">\n",
       "  <thead>\n",
       "    <tr style=\"text-align: right;\">\n",
       "      <th></th>\n",
       "      <th>name</th>\n",
       "      <th>party</th>\n",
       "      <th>term</th>\n",
       "      <th>vice_president</th>\n",
       "    </tr>\n",
       "  </thead>\n",
       "  <tbody>\n",
       "    <tr>\n",
       "      <th>0</th>\n",
       "      <td>1. George Washington (1732-1799)</td>\n",
       "      <td>None, Federalist</td>\n",
       "      <td>1789-1797</td>\n",
       "      <td>John Adams</td>\n",
       "    </tr>\n",
       "    <tr>\n",
       "      <th>1</th>\n",
       "      <td>2. John Adams (1735-1826)</td>\n",
       "      <td>Federalist</td>\n",
       "      <td>1797-1801</td>\n",
       "      <td>Thomas Jefferson</td>\n",
       "    </tr>\n",
       "    <tr>\n",
       "      <th>2</th>\n",
       "      <td>3. Thomas Jefferson (1743-1826)</td>\n",
       "      <td>Democratic-Republican</td>\n",
       "      <td>1801-1809</td>\n",
       "      <td>Aaron Burr, George Clinton</td>\n",
       "    </tr>\n",
       "    <tr>\n",
       "      <th>3</th>\n",
       "      <td>4. James Madison (1751-1836)</td>\n",
       "      <td>Democratic-Republican</td>\n",
       "      <td>1809-1817</td>\n",
       "      <td>George Clinton, Elbridge Gerry</td>\n",
       "    </tr>\n",
       "    <tr>\n",
       "      <th>4</th>\n",
       "      <td>5. James Monroe (1758-1831)</td>\n",
       "      <td>Democratic-Republican</td>\n",
       "      <td>1817-1825</td>\n",
       "      <td>Daniel Tompkins</td>\n",
       "    </tr>\n",
       "  </tbody>\n",
       "</table>\n",
       "</div>"
      ],
      "text/plain": [
       "                               name                  party       term  \\\n",
       "0  1. George Washington (1732-1799)       None, Federalist  1789-1797   \n",
       "1         2. John Adams (1735-1826)             Federalist  1797-1801   \n",
       "2   3. Thomas Jefferson (1743-1826)  Democratic-Republican  1801-1809   \n",
       "3      4. James Madison (1751-1836)  Democratic-Republican  1809-1817   \n",
       "4       5. James Monroe (1758-1831)  Democratic-Republican  1817-1825   \n",
       "\n",
       "                   vice_president  \n",
       "0                      John Adams  \n",
       "1                Thomas Jefferson  \n",
       "2      Aaron Burr, George Clinton  \n",
       "3  George Clinton, Elbridge Gerry  \n",
       "4                 Daniel Tompkins  "
      ]
     },
     "execution_count": 14,
     "metadata": {},
     "output_type": "execute_result"
    }
   ],
   "source": [
    "#Check head of the Dataframe.\n",
    "\n",
    "prez_df.head()"
   ]
  },
  {
   "cell_type": "code",
   "execution_count": 15,
   "metadata": {},
   "outputs": [
    {
     "data": {
      "text/plain": [
       "(45, 4)"
      ]
     },
     "execution_count": 15,
     "metadata": {},
     "output_type": "execute_result"
    }
   ],
   "source": [
    "#Check shape of the Dataframe to confirm that we have 45 rows, one for each president and four columns.\n",
    "\n",
    "prez_df.shape"
   ]
  },
  {
   "cell_type": "code",
   "execution_count": 16,
   "metadata": {
    "collapsed": true
   },
   "outputs": [],
   "source": [
    "#Export the data to a CSV file using the default encoding of UTF-8.\n",
    "\n",
    "prez_df.to_csv('list_of_us_presidents.csv')"
   ]
  }
 ],
 "metadata": {
  "kernelspec": {
   "display_name": "Python 3",
   "language": "python",
   "name": "python3"
  },
  "language_info": {
   "codemirror_mode": {
    "name": "ipython",
    "version": 3
   },
   "file_extension": ".py",
   "mimetype": "text/x-python",
   "name": "python",
   "nbconvert_exporter": "python",
   "pygments_lexer": "ipython3",
   "version": "3.6.3"
  }
 },
 "nbformat": 4,
 "nbformat_minor": 2
}
