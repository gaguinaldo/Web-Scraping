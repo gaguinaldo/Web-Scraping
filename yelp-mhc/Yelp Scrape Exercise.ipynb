{
 "cells": [
  {
   "cell_type": "code",
   "execution_count": 4,
   "metadata": {
    "collapsed": false
   },
   "outputs": [
    {
     "name": "stdout",
     "output_type": "stream",
     "text": [
      "So far, so good!This place is right across the street, I've lived here for almost 2 years & never stopped in so I thought I'd come by for lunch. I ordered their 2 piece combo for $7.50 which includes 1/2 a sandwich & choice of salad or soup with a pretzel bread stick & cookie. As well as a large fresh squeezed lemonade. Great ambiance; I also brought in my laptop to do some work & aside from the radio on the loudspeaker it's very low key, which I like. No disappointments, definitely lots more to try, I'll be back!\n",
      "\n",
      "I'm done, Monkey House.  You went from a great sandwich shop with great customer service and high quality ingredients, to a nickel and dime shop.  When you got rid of the Ms. Vicki's chips, I was bummed...but at least you had great potato salad that you always subbed out.  Nope, not anymore...now you charge.  Ordered the veggie delight on ciabatta LIKE I ALWAYS DO (instead of squaw) and was charged an extra $1.  I used to love this place, but the crap customer service, low quality and nickel and diming will ensure that I will never be back.  There are WAY too many sandwich shops in HB....\n",
      "\n",
      "Decent spot to get some work done if you don't want to be caved up in the house as you slave away on the laptop. =P The hours aren't the best since they close early at 6pm. However, free coffee refills all day although it took them foreverrrr to bring out new coffee when they ran out.The 1/2 and 1/2 lunch with soup/salad, sandwich, bread, pickle, and cookie were good though. The tomato soup with the lunch order was delish my friend and I had to order more on the side.\n",
      "\n",
      "Came in on a friday afternoon, i had forgotten it was St. Paddys day until I walked into this establishment. It was so cutely decorated! hanging green paper lanterns from the tree inside, and miscellaneous green trinkets and tablecloths. Later I realized that they were preparing for a St. Paddy's day event, so the tables and decoration was there as part of a special event. I was a little let down when people began to basically order me out, a message I got from people taking away the seats that were surrounding me. I think it would've been common courtesy to let me know they'd be having an event and maybe I needed to sit elsewhere. Anyways.... I ordered takeout house salad w chicken. $10 so I was expecting something monumentally good. I sat down inside to eat it until I figured they didn't want me there anymore, as they were setting up for a special event. The salad was tasty. The bleu cheese and walnut really made it great. What I thought was really disappointing was the chicken they added. It looked like that store bought precooked chicken by tyson brand. It didn't taste terrible, but I guess I was hoping for something a little bit better quality. The salad looked large but I think the portion size could have been better, since it is leaves they are serving after all. The portion of chicken was generous. The menu isn't anything super special so i don't think i'd come back here. I had just visited from curiosity.\n",
      "\n",
      "I was really excited to come try this place after seeing really good reviews, but I was sadly disappointed by the food. I got the Turkey Cranberry sandwich. While the turkey was good, I thought that there was too much bread. The bread was extremely thick. and it felt like I was only eating bread and very little turkey. The bread tasted kind of stale as well. All sandwiches come with a small side of potato chips which are just mediocre. The portion/size was good, but I don't think I would try it again...maybe something different next time (if there is a next time)\n",
      "\n",
      "(18/100) Nice local affordable sandwich shop.  The decor inside is very...unique.  It reminds me of the decor from Rainforest Cafe, but more monkey-centric.  There's even a gift shop on the side of the shop, but I didn't bother to check it out.We got the Gone Bananas Salad and the Jungle Fever Sandwich.  I loved that the sandwich had a large abundance of sprouts, and everything else in it tasted very healthy so it didn't feel heavy at all.  But the salad was the real winner for me.  The asian vinaigrette mixed well with the artichoke pieces, avocados, juicy chicken, and bacon bits.They offer wifi and this is a great option for a spacious study option with good drinks and eats.\n",
      "\n",
      "Nothing to write home about. I thought with the cool name and Yelp reviews this place would be different. I felt like I was in a hallmark shop with beanie babies and other collectibles and not a cafe. Definitely reads more like a barns and noble with microwave food. It's a fine place to grab a coffee and pastries and sit for hours on your computer if you don't have internet or your spouse drives you crazy or something??\n",
      "\n",
      "What a pleasant surprise!!! I've been wanting to try Monkey House for years...so happy I finally did. Hands down...the BEST breakfast sandwich I've had in a very long time. Went with the cheese bagel with egg, more cheese and bacon.  Of course I couldn't say no to the Peanut Butter Cup either (peanut butter, chocolate and espresso). Friday's are my cheat day...well worth every last bite and sip. I'll definitely be back!!!!\n",
      "\n",
      "The radio music was a tad disturbing especially since the radio commercials were playing. We went for work and a sandwich. The Food was just ok. I did appreciate the decoration, the spacious seating and tables, and also the cleanliness of the entire area and bathroom.\n",
      "\n",
      "Great food breakfast and lunch. I've been coming here everyday for like a week now and I love it\n",
      "\n",
      "Meh. On the pastrami panini. Pre-sliced deli meat - not homemade.  That is a big big let down.With ruffles potato chips and a coke $10Unsure why this place was rated so highly . The vibe is cool and there's a tree in the middle with coffee/ beer or wine options. But usually the ambience plays 2nd fiddle to the food. And its the opposite here.Maybe when my local starbucks is too full to work at, I'll try this place again and see what the coffee side of the house does for me.\n",
      "\n",
      "One of my favorite indy coffee shops in the area. I prefer this place over Starbucks any day! Super cute decor, free wifi, plenty of space to spread out and do some studying or work if needed. Coffee flavor is really good, smooth and creamy. What I don't really like is the fact that they don't serve anything in glass or ceramic mugs if you order your drink for consumption on premise. There's something to be said about having a cup of joe in a real mug that sits heavy in your hand. Just makes it taste that much better in my opinion.  That won't deter me from NOT coming back though! I love this place and would give it 5 stars if they had the mugs!\n",
      "\n",
      "Obsessed with their pick two veggie sandwich and ceasar salad deal--the cookie and pretzel are an added touch! Have yet to try their smoothies but I will, considering it's right down the street from my work. Managed to convince all of my co-workers to try this place as well and they said it totally hits the spot! Love it here, my new fave lunch place!\n",
      "\n",
      "While the coffee was fantastic here, I mean very very good, the service was just beyond slow.I came her with my family and parents, 3 coffees took over 20 minutes to make, unacceptable.However, as tasty as they were, perfectly made, good quality, I forgive them and can't wait to return for more!We had two blended coffees, the coco choco chimp and the peanut butter cup, as well as some hot ones, all were perfection.Great menu, not just coffee, but other drinks and snacks as well.The decor is fun with the huge tree in the middle of the cafe, they sell small gifts as well.Worth a stop while in the area!\n",
      "\n",
      "The place is nice and the people are friendly. The food was delicious, fresh and not overpriced. I'm SUPER picky about where I spend my hard-earned cash. So when I go out of my way to compliment a place, it's because I think they're awesome! Plus the girl at the counter is really cute.\n",
      "\n",
      "Was honestly skeptical when my boyfriend pulled up to this place, but after stepping inside the ambience immediately sold me.  It's beautiful and truly makes you feel like you are in the jungle.  There is a tree covered in gorgeous lanterns coming out of the center of the floor and all around there are jungle patio chairs and tables, making it feel like an outdoor experience.    We are table top gamers and like to take advantage of the copious seamounts of space some of the tables offer.I had a breakfast sandwich and my boyfriend had the pastrami, truly delicious!  I had a Numi tea, also good, while he had a coffee.  They also have lots of craft beers and wines such as Neyers.  Plus, they have delicious and creamy indie ice cream, yum!Overall, a very cute and eclectic coffee stop you won't want to miss!\n",
      "\n",
      "After dropping off my dad's car for service on Beach Blvd, I wanted to kill time and also felt a desire for caffeine. To my luck Monkey House Cafe was just across the street. As I entered the shop the first thing I noticed was the aroma of freshly brewed coffee beans. The second thing that came in my head was a rock song from the late 80s:Welcome to the jungle, they got coffee and grains. They got everything you want, honey they know the names, They are the people that can find, whatever you may need. If you got the money, honey, they got your wheat....The decoration is fantastic! Spot on, absolutely matches their monkey in the jungle theme! A huge tree in the middle of the store? How awesome is that?! They truly don't spare on the decor even though it means to satisfy space. Nevertheless, it's still spacious with plenty of seatings and counter height tables (standing desk ftw in case bringing your laptop). Service was efficient and friendly, nothing constructive to add here. I went for the peanut butter cup; the taste of blended espresso, chocolate and peanut butter was soo good. Not too sweet, yet strong in aroma and flavor: almost a protein-caffeine shake. It was that rich! Hands down a great place to sip on your cup of coffee and enjoy the ambiance.\n",
      "\n",
      "Love this place! Their peanut butter mocha espresso drink is fabulous! The staff is friendly as well. Try the tuna melt.\n",
      "\n",
      "Ordered a veggie breakfast bagel sandwich (egg, cheese, tomato and sprouts with an everything bagel) with intentions to order the oatmeal that was recommended. Glad I tried it because it was delicious! Cute place with lots of space to sit and a wide variety of drinks from coffee to tea to smoothies and beer and wine. I will definitely come back to try that oatmeal...\n",
      "\n",
      "This place is the ideal mamma and papa establishment I look for. The cafe is very clean including the restrooms. The service was very good and the prices are reasonable for the meals. We ordered 2 meals and 2 iced coffees. Our dinner was under $25. Very reasonable. The sandwiches were unique and had a good but different taste to them. The coffees were good as well.The decorations and the tree in the middle of the cafe makes this place different and interesting. I think there is only one thing that might be negative and that is they close at 6. So you might need to take an early dinner.TIPSI believe there is wifi.Great place to study and relax.\n",
      "\n"
     ]
    }
   ],
   "source": [
    "#Standard Imports\n",
    "\n",
    "import requests\n",
    "from bs4 import BeautifulSoup as soup\n",
    "\n",
    "#Script to scrape the review text as well as the numerical value of the stars\n",
    "\n",
    "page_num=0\n",
    "url2 = \"https://www.yelp.com/biz/monkey-house-cafe-huntington-beach?start=%s\" % page_num\n",
    "\n",
    "r = requests.get(url2)\n",
    "page_soup = soup(r.content, \"lxml\")\n",
    "\n",
    "review_container = page_soup.findAll(\"div\", {\"class\": \"review-content\"})\n",
    "\n",
    "for review in review_container:\n",
    "    review_text = review.p.text\n",
    "    print(review_text + '\\n') "
   ]
  },
  {
   "cell_type": "code",
   "execution_count": null,
   "metadata": {
    "collapsed": true
   },
   "outputs": [],
   "source": []
  }
 ],
 "metadata": {
  "kernelspec": {
   "display_name": "Python [conda root]",
   "language": "python",
   "name": "conda-root-py"
  },
  "language_info": {
   "codemirror_mode": {
    "name": "ipython",
    "version": 3
   },
   "file_extension": ".py",
   "mimetype": "text/x-python",
   "name": "python",
   "nbconvert_exporter": "python",
   "pygments_lexer": "ipython3",
   "version": "3.5.2"
  }
 },
 "nbformat": 4,
 "nbformat_minor": 0
}
