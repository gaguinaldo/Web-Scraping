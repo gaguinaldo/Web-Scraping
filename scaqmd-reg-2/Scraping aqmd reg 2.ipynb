{
 "cells": [
  {
   "cell_type": "code",
   "execution_count": 1,
   "metadata": {},
   "outputs": [],
   "source": [
    "import pandas as pd\n",
    "import requests as r\n",
    "from bs4 import BeautifulSoup as soup"
   ]
  },
  {
   "cell_type": "code",
   "execution_count": 2,
   "metadata": {
    "collapsed": true
   },
   "outputs": [],
   "source": [
    "url = 'http://www.aqmd.gov/home/rules-compliance/rules/scaqmd-rule-book/regulation-ii'"
   ]
  },
  {
   "cell_type": "code",
   "execution_count": 3,
   "metadata": {
    "collapsed": true
   },
   "outputs": [],
   "source": [
    "page = r.get(url)"
   ]
  },
  {
   "cell_type": "code",
   "execution_count": 4,
   "metadata": {},
   "outputs": [
    {
     "data": {
      "text/plain": [
       "<Response [200]>"
      ]
     },
     "execution_count": 4,
     "metadata": {},
     "output_type": "execute_result"
    }
   ],
   "source": [
    "page"
   ]
  },
  {
   "cell_type": "code",
   "execution_count": 5,
   "metadata": {},
   "outputs": [],
   "source": [
    "page_soup = soup(page.text, 'html.parser')"
   ]
  },
  {
   "cell_type": "code",
   "execution_count": 6,
   "metadata": {},
   "outputs": [
    {
     "name": "stdout",
     "output_type": "stream",
     "text": [
      "Rule 201 \n",
      "\n",
      "---\n",
      "/docs/default-source/rule-book/reg-ii/rule-201.pdf?sfvrsn=4\n",
      "---\n",
      "Permit to Construct\n",
      "(Amended December 3, 2004)\n"
     ]
    }
   ],
   "source": [
    "i_record = page_soup.find_all('p')\n",
    "print(i_record[3].find('a').text)\n",
    "print('---')\n",
    "print(i_record[3].find('a')['href'])\n",
    "print('---')\n",
    "print(i_record[4].text)"
   ]
  },
  {
   "cell_type": "code",
   "execution_count": 7,
   "metadata": {},
   "outputs": [
    {
     "name": "stdout",
     "output_type": "stream",
     "text": [
      "Rule 201.1 \n",
      "\n",
      "---\n",
      "/docs/default-source/rule-book/reg-ii/rule-201-1.pdf?sfvrsn=4\n",
      "---\n",
      "Permit Conditions in Federally Issued Permits to Construct\n",
      "(Amended December 3, 2004)\n"
     ]
    }
   ],
   "source": [
    "i_record = page_soup.find_all('p')\n",
    "print(i_record[5].find('a').text)\n",
    "print('---')\n",
    "print(i_record[5].find('a')['href'])\n",
    "print('---')\n",
    "print(i_record[6].text)"
   ]
  },
  {
   "cell_type": "code",
   "execution_count": 8,
   "metadata": {},
   "outputs": [
    {
     "name": "stdout",
     "output_type": "stream",
     "text": [
      "Rule 202 \n",
      "\n",
      "---\n",
      "/docs/default-source/rule-book/reg-ii/rule-202.pdf?sfvrsn=4\n",
      "---\n",
      "Temporary Permit to Operate\n",
      "(Amended December 3, 2004)\n"
     ]
    }
   ],
   "source": [
    "i_record = page_soup.find_all('p')\n",
    "print(i_record[7].find('a').text)\n",
    "print('---')\n",
    "print(i_record[7].find('a')['href'])\n",
    "print('---')\n",
    "print(i_record[8].text)"
   ]
  },
  {
   "cell_type": "code",
   "execution_count": 9,
   "metadata": {},
   "outputs": [
    {
     "name": "stdout",
     "output_type": "stream",
     "text": [
      "Rule 223 \n",
      "---\n",
      "/docs/default-source/rule-book/reg-ii/rule-223.pdf?sfvrsn=4\n",
      "---\n",
      "Emission Reduction Permits for Large Confined Animal Facilities\n",
      "(Adopted June 2, 2006)\n"
     ]
    }
   ],
   "source": [
    "i_record = page_soup.find_all('p')\n",
    "print(i_record[63].find('a').text.split('\\n')[0])\n",
    "print('---')\n",
    "print(i_record[63].find('a')['href'])\n",
    "print('---')\n",
    "print(i_record[64].text)"
   ]
  },
  {
   "cell_type": "code",
   "execution_count": 10,
   "metadata": {},
   "outputs": [],
   "source": [
    "reg_2 = pd.DataFrame()\n",
    "for num in range(3, 63, 2):\n",
    "    i_record = page_soup.find_all('p')\n",
    "    rule_num = (i_record[num].find('a').text.split('\\n')[0])\n",
    "    rule_url = i_record[num].find('a')['href']\n",
    "    rule_name = i_record[num + 1].text\n",
    "    reg_2 = reg_2.append(pd.DataFrame({'number': rule_num.split('\\xa0')[0], \n",
    "                                       'part_url': rule_url, \n",
    "                                       'name': rule_name.split('\\n')[0],\n",
    "                                      'amend_date': rule_name.split('\\n')[1][(rule_name.split('\\n')[1].find('(') + 1):(rule_name.split('\\n')[1].find(')'))]}, index = [0]), ignore_index = True)"
   ]
  },
  {
   "cell_type": "code",
   "execution_count": 11,
   "metadata": {},
   "outputs": [],
   "source": [
    "reg_2['full_url'] = 'http://www.aqmd.gov' + reg_2['part_url']"
   ]
  },
  {
   "cell_type": "code",
   "execution_count": 12,
   "metadata": {},
   "outputs": [],
   "source": [
    "df_final = reg_2.drop(['part_url'], axis=1)"
   ]
  },
  {
   "cell_type": "code",
   "execution_count": 13,
   "metadata": {},
   "outputs": [
    {
     "data": {
      "text/html": [
       "<div>\n",
       "<style>\n",
       "    .dataframe thead tr:only-child th {\n",
       "        text-align: right;\n",
       "    }\n",
       "\n",
       "    .dataframe thead th {\n",
       "        text-align: left;\n",
       "    }\n",
       "\n",
       "    .dataframe tbody tr th {\n",
       "        vertical-align: top;\n",
       "    }\n",
       "</style>\n",
       "<table border=\"1\" class=\"dataframe\">\n",
       "  <thead>\n",
       "    <tr style=\"text-align: right;\">\n",
       "      <th></th>\n",
       "      <th>amend_date</th>\n",
       "      <th>name</th>\n",
       "      <th>number</th>\n",
       "      <th>full_url</th>\n",
       "    </tr>\n",
       "  </thead>\n",
       "  <tbody>\n",
       "    <tr>\n",
       "      <th>0</th>\n",
       "      <td>Amended December 3, 2004</td>\n",
       "      <td>Permit to Construct</td>\n",
       "      <td>Rule 201</td>\n",
       "      <td>http://www.aqmd.gov/docs/default-source/rule-b...</td>\n",
       "    </tr>\n",
       "    <tr>\n",
       "      <th>1</th>\n",
       "      <td>Amended December 3, 2004</td>\n",
       "      <td>Permit Conditions in Federally Issued Permits ...</td>\n",
       "      <td>Rule 201.1</td>\n",
       "      <td>http://www.aqmd.gov/docs/default-source/rule-b...</td>\n",
       "    </tr>\n",
       "    <tr>\n",
       "      <th>2</th>\n",
       "      <td>Amended December 3, 2004</td>\n",
       "      <td>Temporary Permit to Operate</td>\n",
       "      <td>Rule 202</td>\n",
       "      <td>http://www.aqmd.gov/docs/default-source/rule-b...</td>\n",
       "    </tr>\n",
       "    <tr>\n",
       "      <th>3</th>\n",
       "      <td>Amended December 3, 2004</td>\n",
       "      <td>Permit to Operate</td>\n",
       "      <td>Rule 203</td>\n",
       "      <td>http://www.aqmd.gov/docs/default-source/rule-b...</td>\n",
       "    </tr>\n",
       "    <tr>\n",
       "      <th>4</th>\n",
       "      <td>Rescinded June 28, 1990</td>\n",
       "      <td>Special Permit Provisions</td>\n",
       "      <td>Rule 203.1</td>\n",
       "      <td>http://www.aqmd.gov/docs/default-source/rule-b...</td>\n",
       "    </tr>\n",
       "  </tbody>\n",
       "</table>\n",
       "</div>"
      ],
      "text/plain": [
       "                 amend_date  \\\n",
       "0  Amended December 3, 2004   \n",
       "1  Amended December 3, 2004   \n",
       "2  Amended December 3, 2004   \n",
       "3  Amended December 3, 2004   \n",
       "4   Rescinded June 28, 1990   \n",
       "\n",
       "                                                name      number  \\\n",
       "0                                Permit to Construct    Rule 201   \n",
       "1  Permit Conditions in Federally Issued Permits ...  Rule 201.1   \n",
       "2                        Temporary Permit to Operate    Rule 202   \n",
       "3                                  Permit to Operate    Rule 203   \n",
       "4                          Special Permit Provisions  Rule 203.1   \n",
       "\n",
       "                                            full_url  \n",
       "0  http://www.aqmd.gov/docs/default-source/rule-b...  \n",
       "1  http://www.aqmd.gov/docs/default-source/rule-b...  \n",
       "2  http://www.aqmd.gov/docs/default-source/rule-b...  \n",
       "3  http://www.aqmd.gov/docs/default-source/rule-b...  \n",
       "4  http://www.aqmd.gov/docs/default-source/rule-b...  "
      ]
     },
     "execution_count": 13,
     "metadata": {},
     "output_type": "execute_result"
    }
   ],
   "source": [
    "df_final.head()"
   ]
  },
  {
   "cell_type": "code",
   "execution_count": 14,
   "metadata": {},
   "outputs": [],
   "source": [
    "df_final.to_csv('aqmd_reg2.csv')"
   ]
  }
 ],
 "metadata": {
  "kernelspec": {
   "display_name": "Python 3",
   "language": "python",
   "name": "python3"
  },
  "language_info": {
   "codemirror_mode": {
    "name": "ipython",
    "version": 3
   },
   "file_extension": ".py",
   "mimetype": "text/x-python",
   "name": "python",
   "nbconvert_exporter": "python",
   "pygments_lexer": "ipython3",
   "version": "3.6.3"
  }
 },
 "nbformat": 4,
 "nbformat_minor": 2
}
