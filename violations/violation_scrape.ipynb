{
 "cells": [
  {
   "cell_type": "code",
   "execution_count": 31,
   "metadata": {
    "collapsed": true
   },
   "outputs": [],
   "source": [
    "import requests as r\n",
    "from bs4 import BeautifulSoup as soup\n",
    "import pandas as pd\n",
    "import time"
   ]
  },
  {
   "cell_type": "code",
   "execution_count": 32,
   "metadata": {
    "collapsed": true
   },
   "outputs": [],
   "source": [
    "file = '/Users/gta/Desktop/web-scraping/violations/data.csv'"
   ]
  },
  {
   "cell_type": "code",
   "execution_count": 33,
   "metadata": {
    "collapsed": true
   },
   "outputs": [],
   "source": [
    "df = pd.read_csv(file)"
   ]
  },
  {
   "cell_type": "code",
   "execution_count": 34,
   "metadata": {},
   "outputs": [
    {
     "data": {
      "text/plain": [
       "(3888, 7)"
      ]
     },
     "execution_count": 34,
     "metadata": {},
     "output_type": "execute_result"
    }
   ],
   "source": [
    "df['url'] = ''\n",
    "df['violation_data'] = ''\n",
    "df['equipment'] = ''\n",
    "df.shape"
   ]
  },
  {
   "cell_type": "code",
   "execution_count": 35,
   "metadata": {
    "collapsed": true
   },
   "outputs": [],
   "source": [
    "baseUrl1 = 'http://www3.aqmd.gov/webappl/fim/prog/novdetail.aspx?novid='\n",
    "baseUrl2 = '&notice_type=NOV&fac_id='"
   ]
  },
  {
   "cell_type": "code",
   "execution_count": 36,
   "metadata": {
    "collapsed": true
   },
   "outputs": [],
   "source": [
    "for index, row in df.iterrows():\n",
    "    df.set_value(index, 'url', baseUrl1 + str(row['notification']) + baseUrl2 + str(row['facility id']))"
   ]
  },
  {
   "cell_type": "code",
   "execution_count": 37,
   "metadata": {
    "collapsed": true
   },
   "outputs": [],
   "source": [
    "df = df.iloc[3750:3888]"
   ]
  },
  {
   "cell_type": "code",
   "execution_count": 38,
   "metadata": {},
   "outputs": [
    {
     "name": "stdout",
     "output_type": "stream",
     "text": [
      "<Response [200]> 3750\n",
      "Operating a petroleum solvent dry cleaning equipment without an active Permit to Operate\n",
      "<Response [200]> 3751\n",
      "Continuing to operate a petroleum solvent dry cleaning system without an active Permit to Operate\n",
      "<Response [200]> 3752\n",
      "Continuing to operate a petroleum solvent dry cleaning system without an active Permit to Operate\n",
      "<Response [200]> 3753\n",
      "OPERATING GASOLINE DISPENSING FACILITY WITHOUT ACTIVE PERMIT TO OPERATE. RESUMING OPERATING OF GASOLINE DISPENSING FACILITY WITHOUT SUCCESSFULLY PASSING THE TP201.5 & HEALY DISPENSER LINE INTEGRITY TEST - FAILED 02/15/2016. FAILURE TO CONDUCT/SUCCESSFULLY\n",
      "<Response [200]> 3754\n",
      "OPERATING A GASOLINE DISPENSING FACILITY WITHOUT A VALID PERMIT TO OPERATE - PERMIT DESCRIPTION IS INCORRECT.\n",
      "<Response [200]> 3755\n",
      "461(c)(2)(B) _ Failure to maintain and operate Phase II according to manufacture specification and CARB EO.  (c)(3)(P) _ Operating a gasoline dispensing facility with a major defect _ Vapor processor in manual mode.  H&S; Code 41960.2(a) _ Failure to\n",
      "<Response [200]> 3756\n",
      "OPERATING A GASOLINE DISPENSING FACILITY WITHOUT A VALID PERMIT. - FACILITY FAILED TO: MODIFIED EQUIPMENT WITHIN THE ALLOWABLE ONE YEAR FROM PERMIT # N29266 ISSUE DATE (12/21/14) OR REINSTATE THE OLD PERMIT, OR REQUEST AN EXTENSION.\n",
      "<Response [200]> 3757\n",
      "Operating a gasoline dispensing facility with an invalid permit. (Site has 3 gas tanks not 4). Failure to conduct a performance test within 10 calendar days after initial operation of dispensing fuel. Manually clearing alarms without proof/documentation\n",
      "<Response [200]> 3758\n",
      "Operation of an aboveground storage tank (AST) without a CARB certified Phase I vapor recovery system [Enhanced Vapor Recovery (EVR)];\n",
      "Failure to submit monthly throughput records for 2015 and 2016;\n",
      "Failure to conduct annual reverification test in same\n",
      "<Response [200]> 3759\n",
      "Failure to conduct an annual reverification test for a gasoline dispensing system.\n",
      "<Response [200]> 3760\n",
      "failure to have cooling colis cleane din the past 2 years by a certified technician. failure to have main door, still door, button trap and lint trap gskets replaced in past 2 years. failure to complete atcm certification.\n",
      "<Response [200]> 3761\n",
      "R401(b)(1)(B):  VEE > 20% opacity, more than 3 minutes in one hour.\n",
      "<Response [200]> 3762\n",
      "Failure to meet diesel PM standard for engines located near school grounds. Operation of ICE when school is in session for non_emergency use. ICE usage log did not document all hours of operation and nature of use.\n",
      "<Response [200]> 3763\n",
      "failure to conduct annual vapor recovery reverification tests in 2015\n",
      "<Response [200]> 3764\n",
      "failure to conduct annual vapor recovery reverification testing in 2015\n",
      "<Response [200]> 3765\n",
      "failure to conduct annual vapor recovery reverification testing in 2015\n",
      "<Response [200]> 3766\n",
      "Operation of three boilers with modified burners without submitting modofication applications\n",
      "<Response [200]> 3767\n",
      "Operating spray booth without a permit to operate.\n",
      "<Response [200]> 3768\n",
      "Failure to submit the application for renewing the permit less than 180 days prior to permit expiration date\n",
      "<Response [200]> 3769\n",
      "Failure to submit a Title V permit renewal at least 180 days prior to expiration of permit.\n",
      "<Response [200]> 3770\n",
      "INSTALLING PHSE 1 AND 2 VAPOR RECOVERY SYSTEM WITHOUT VALID PERMIT TO OPERATE FROM AQMD. FAILURE TO PROPERLY INSTALL CARB CERTIFIED PHASE 1 VAPOR RECOVERY SYSTEM.\n",
      "<Response [200]> 3771\n",
      "A PERSON SHALL NOT INSTALL ANY EQUIPMENT WITHOUT WRITTEN AUTHORIZATION FROM EXECUTIVE OFFICER. INSTALLED VR201 A PHASE II VAPOR RECOVERY SYSTEM WITHOUT PERMIT TO CONSTRUCT.\n",
      "<Response [200]> 3772\n",
      "FAILURE TO: SHOW COMPLIANCE BY OPERATING SITE W/O PROPER MAINTENANCE AND GOOD OPERATING CONDITION _ TEST MANUALLY CLEARED, CHECK EVR, READINESS PENDING; OPERATING SITE W/O ALL REQUIRED RECORDS FOR ALARMS AND ALL REPAIRS AS REQUIRED; CONDUCT ANNUAL\n",
      "<Response [200]> 3773\n",
      "A PERSON SHALL NOT: INSTALL ANY EQUIPMENT WITHOUT WRITTEN AUTHORIZATION FROM EXECUTIVE OFFICER. (INSTALLED VR204 WITHOUT PERMIT TO CONSTRUCT; OPERATE ANY EQUIPMENT WITHOUT FIRST OBTAINING A PERMIT TO OPERATE (OPERATED A VAPOR RECOVERY SYSTEM W/O VALID\n",
      "<Response [200]> 3774\n",
      "Failing to obtain a P/C before installing a diesel ICE rated at >50hp. Operating a disel ICE rated at >50hp without first obtaining a P/O.\n",
      "<Response [200]> 3775\n",
      "Operating equipment without an AQMD permit. The drying cleaning machine is a Model GEHC MS70 with a Serial Number 70MSHC-R3-0315-7994, manufactured in 2015.\n",
      "<Response [200]> 3776\n",
      "failure to conduct annual vapor recovery reverification testing in 2015\n",
      "<Response [200]> 3777\n",
      "R1146 (6) (A) - Compliance determination with NOx emissions requirements...shall be conducted once every three years for units with a rated heat input >10 MMBTU/HR\n",
      "<Response [200]> 3778\n",
      "Failure to conduct source tests on two boilers rated at 12.6 mmbtu every three years.\n",
      "<Response [200]> 3779\n",
      "Operating an aboveground storage tank without \"carb approved\" Phase I EVR.  Failure to conduct reverification tests annually.\n",
      "<Response [200]> 3780\n",
      "Operating an in-use diesel fired internal combustion engine within 100 meters of a school without complying with any of the available compliance options.\n",
      "<Response [200]> 3781\n",
      "Operating with pressure differential above 2.5\" WC at second stage filters and no properly maintaining IR VOC sensing device\n",
      "<Response [200]> 3782\n",
      "failure to conduct annual vapor recovery reverification testing in 2015\n",
      "<Response [200]> 3783\n",
      "Operating a gasoline dispensing facility without a valid AQMD Permit to Operate (Permit to Operate N28801 Expired)\n",
      "<Response [200]> 3784\n",
      "OPERATING A GASOLINE DISPENSING FACILITY WITH NO ACTIVE PERMIT (RECENT CHANGE OF OWNERSHIP, NO RECORD OF APPLICATION SUBMITTED). FACILITY IS OBSERVED OPERATING.\n",
      "<Response [200]> 3785\n",
      "OPERATING A GASOLINE DISPENSING FACILITY WITH NO ACTIVE PERMIT (RECENT CHANGE OF OWNERSHIP, NO RECORD OF APPLICATION SUBMITTED). FACILITY IS OBSERVED OPERATING.\n",
      "<Response [200]> 3786\n",
      "Failing to re-check NOx emissions on two natural gas fired boilers rated greater than 5 MBTU/hr (P/Os G21362 and G21363) within 72 hours from exceeding the NOx emission limit\n",
      "<Response [200]> 3787\n",
      "Operating a diesel fueled, 105 BHP stationary emergency standby Daewoo engine, model P034.T1, S/N EBMGA900105 without first obtaining a Permit to Operate.\n",
      "<Response [200]> 3788\n",
      "Operating a diesel-fueled, 105 BHP/HR stationary emergency standby Daewoo engine, model P034.T1, S/N LBMGA900105 without first obtaining a Permit to Operate.  Failure to maintain a monthly log.\n",
      "<Response [200]> 3789\n",
      "Failure to submit an application for Title V permit renewal less than 180 dsys prior to date of permit expiration\n",
      "<Response [200]> 3790\n",
      "FAILURE TO MAINTAIN VAPOR RECOVERY SYSTEM IN ACCORDANCE WITH CARB CERTIFICATION _ GASOLINE TANK NOT CONNECTED TO CLEAN AIR SEPARATOR AND NOT CONNECTED TO P/V CAP _ DIESEL TANK SHARED MANIFOLD WITH REMAINING GASOLINE TANKS_ ALL LINES EXPOSED TO ATMOSPHERE.\n",
      "<Response [200]> 3791\n",
      "Failure to: timely conduct VOC control efficiency source test for thermal oxidizer #1; submit all source test reports to SCAQMD within 60 days of completion of test.\n",
      "<Response [200]> 3792\n",
      "Source test conducted on June 18, 2015 by Almega indicates facility failed to operate Elly West Crane (D93) in compliance of the applicable VOC emission concentration limits listed in Table ll (250 ppmrd) of Rule and/or Permit conditions.\n",
      "<Response [200]> 3793\n",
      "Failing the Relative Accuracy Audit that was conducted during the sources test of November 12, 2014 on Device D86 as described in Rule and Permit Conditions.\n",
      "<Response [200]> 3794\n",
      "facility operated and installed 4 storage silos without PO/PC; failure to demonstrate compliance with emission limits for 1.995 MMBTU parker boiler mfg prior to 1992; facility operating 3 trane chillers without registration\n",
      "<Response [200]> 3795\n",
      "failure to demonstrate compliance with emission limits for 1.995 MMBTU parker boiler mfg prior to 1992\n",
      "<Response [200]> 3796\n",
      "Exceeded provided character space.  Please view the report tab/inspector comment.\n",
      "<Response [200]> 3797\n",
      "Failure to comply with Rules 1113(c)(1) and 1171(c)(1), Possession of non-compliant R1113 coatings and usage of non-compliant R1171 cleaning solvent.\n"
     ]
    },
    {
     "name": "stdout",
     "output_type": "stream",
     "text": [
      "<Response [200]> 3798\n",
      "NOT PERFORMING A THOROUGH ASBESTOS SURVEY PRIOR TO DEMOLITION; NO NOTIFICATION OF ASBESTOS REMOVAL TO SCAQMD; NOT USING ACM REMOVAL PROCEDURES; NOT COLLECTING AND PLACING ACM IN LABELED LEAK-TIGHT CONTAINERS; NOT WETTING ACWM;\n",
      "<Response [200]> 3799\n",
      "failure to perform RATA tests in timely manner for D1, D102/D104 in 2014; failure to apply the updated BAF to emissions calculations for all Major Source devices in 2014\n",
      "<Response [200]> 3800\n",
      "Operating D102 & D103 contrary to permit conditions by exceeding the NOx limit of 2.5ppm (15 min avg) on several occassions (187 incidences) in CY 2015.  Failing to conduct periodic tune-ups for D96 & D98 according to frequency per Table 5-B.\n",
      "<Response [200]> 3801\n",
      "FAILURE TO SHOW COMPLIANCE: NOT FOLLOWING PERMIT CONDITIONS FOR VEEDER ROOT ISD WARNING ALARMS/RESET FUNCTION; NOT KEEPING ALARM LOG. VAPOR RECOVERY SYSTEM (ISD) NOT OPERATED IN ACCORDANCE W ITH MANUFACTURER'S SPECS AND CARB CERTS.\n",
      "<Response [200]> 3802\n",
      "Failure to submit Form 500-SAM by 8/31/2015.\n",
      "<Response [200]> 3803\n",
      "Failure to submit a timely Title V permit renewal applicaiton to SCAQMD\n",
      "<Response [200]> 3804\n",
      "Operation of one Universal Industrial Oven with one 1.5 MIL BTU/hr (NOx Burner) in a manner that exceeds the applicable NOx emission limit specified in Table I of Rule 1147.\n",
      "<Response [200]> 3805\n",
      "Failure to conduct source test on the oven with a burner rated at 3 million btu/hr\n",
      "<Response [200]> 3806\n",
      "Operating an oven with two Maxon burners both rated at 1.6 million btu/hr without a valid Permit to Construct\n",
      "<Response [200]> 3807\n",
      "TURBINE NOS.. 1&2 FAILED ANNUAL SOURCE TEST ON 5/21/13-5/22/13; FAILURE TO REPORT DEVIATION WITHIN 72 HRS. AS REQUIRED BY SECTION K, COND. 22(B) OF TITLE V PERMIT;\n",
      "<Response [200]> 3808\n",
      "Failure to conduct performance testing within 10 days  after completion of upgrade\n",
      "<Response [200]> 3809\n",
      "OPERATING A GASOLINE DISPENSING FACILITY WITHOUT A VALID PERMIT TO OPERATE.\n",
      "<Response [200]> 3810\n",
      "OPERATING A GASOLINE DISPENSING FACILITY WITHOUT A VALID PERMIT TO OPERATE.\n",
      "<Response [200]> 3811\n",
      "FAILURE TO PROVIDE: RECORDS DURING AN INSPECTION; PERIODIC COMPLIANCE INSPECTION; PRESSURE VACUUM VALVE TEST RESULTS.\n",
      "<Response [200]> 3812\n",
      "DID NOT PERFORM SOURCE TEST ON DECORATIVE CHROME TANK AND APCS WITHIN 180 DAYS OF START UP ON 9/29/14.  ASSOCIATED CHROME TANK LISTED UNDER A/N 560520 EQUIPMENT #17.\n",
      "<Response [200]> 3813\n",
      "FAILURE TO: SHOW COMPLIANCE BY OPERATING CONTRARY TO LISTED PERMIT CONDITIONS. FAULTY INTERLOCKS ON NOZZLES #1, 6, 9; HAVE/MAINTAIN ALARM LOG FOR VAPOR ALARM; CONDUCT 10/15 ANNUAL PERIODIC COMPLIANCE INSPECTION.\n",
      "<Response [200]> 3814\n",
      "Failure to submit a timely Title V permit renewal application to SCAQMD\n",
      "<Response [200]> 3815\n",
      "FOUND PUMP #7 TO HAVE A FAULTY INSERTION INTERLOCK MECHANISM.  FAILURE TO MAINTAIN SYSTEM PER MANUFACTURER'S SPECS.  OPERATING WITH A MAJOR DEFECT.  PUMP #7 WAS NOT MAINTAINED IN GOOD WORKING ORDER ACCORDING TO MANUFACTURER'S SPECS.\n",
      "<Response [200]> 3816\n",
      "FAILURE TO OPERATE/MAINTAIN A GASOLINE DISPENSING FACILITY IN GOOD WORKING ORDER IN ACCORDANCE WITH THE MANUFACTURER'S SPECIFICATIONS OF THE SYSTEM. OPERATING CONTRARY TO PERMIT N23435 CONDITION #2: FAILURE TO MAINTAIN EQUIPMENT AND KEEP IN GOOD OPERATING\n",
      "<Response [200]> 3817\n",
      "FAILURE TO OPERATE & MAINTAIN THE VAPOR RECOVERY SYSTEM & ASSOCIATED COMPONENTS IN A MANNER IN ACCORDANCE WITH MANUFACTURER'S SPECS & CARB CERTIFICATION: MISSING CAS FLOAT CHECK VALVE. FAILURE TO OPERATE & MAINTAIN SAID EQUIMENT WITH NO MAJOR DEFECT.\n",
      "<Response [200]> 3818\n",
      "Operating contrary to conditions on Permit F75869-paint spray booth Condition #3- operating spray booth without a pressure gauge, Condition #4- operating spray booth with exhaust air not passing through filter media at least 2 inches thick\n",
      "<Response [200]> 3819\n",
      "NOT ADHERING TO CARB VAPOR RECOVERY TEST PROCEDURES DURING PERFORMANCE TEST _ USING HUSKY 5885 PV CAP INSTEAD OF 8 OZ RELIEF CAP _ ATTEMPTED TP 201.3 WITHOUT TESTING POPPET VALVE _ CONDUCTING TP 201.1D WITHOUT PRESSURE RELIEF CAP _ CONDUCTING TP 201.1D\n",
      "<Response [200]> 3820\n",
      "failure to demonstrate compliance by conducting portable analyzer tests weekly or every 150 operating hours for ICE under P/O D75023\n",
      "<Response [200]> 3821\n",
      "failure to conduct PA tests either weekly or every 150 operating hours for engine under PO D75023; Failure to submit quarterly reports within 15 days of the end of the calendar quarter for engine under PO D75023\n",
      "<Response [200]> 3822\n",
      "Operating I.C.E rated to >50 HP without a valid permit to operate\n",
      "<Response [200]> 3823\n",
      "FAILURE TO CONDUCT REVERIFICATION TESTS DURING THE ESTABLISHED TESTING SCHEDULE OF MAY AND NOVEMBER OF EVERY CALENDAR YEAR.\n",
      "<Response [200]> 3824\n",
      "Causing/allowing the emissions of fugitive dust from an active operation such that the dust remains visible in the atmosphere beyond the property line of the emission source. Failure to implement applicable actions in Table 1 and Table 2 of Rule 403\n",
      "<Response [200]> 3825\n",
      "Operating an aboveground storage tank (AST) without CARB certified vapor recovery system.\n",
      "<Response [200]> 3826\n",
      "RULE 461: (C)(2)(B) _ FAILURE TO MAINTAIN AND OPERATE PHASE II ACCORDING TO MANUFACTURE SPECIFICATION AND EXECUTIVE ORDER.  (C)(3)(P) _ OPERATING A GASOLINE DISPENSING FACILITY WITH A MAJOR DEFECT.  H&S; CODE 41960.2(a) _ FAILURE TO MAINTAIN EQUIPMENT IN\n",
      "<Response [200]> 3827\n",
      "OPERATING WITHOUT A VALID PERMIT TO OEPRATE\n",
      "<Response [200]> 3828\n",
      "OPERATING WITHOUT A VALID PERMIT TO OEPRATE\n",
      "<Response [200]> 3829\n",
      "Failed to reconcile quarterly SOx emissions in the 1st, 2nd, 3rd, and 4th quarters. Sox emissions from the beginning of the 2015 Compliance Year through the end of the 1st, 2nd, 3rd, and 4th quarter exceeded the annual SOx emissions allocation in effect\n",
      "<Response [200]> 3830\n",
      "1. failed to reconcile quarterly NOx and Sox emissions in the 1st and 2nd Qtr of compliance year 2016. 2. NOx and SOx emissions from the beginning of the 2016 compliance year through the end of the 1st and 2nd quarters exceeded allocation in effect at the\n",
      "<Response [200]> 3831\n",
      "Failure to comply with Permit condition 11 for P/O F80360 and F80362\n",
      "<Response [200]> 3832\n",
      "Exceeding the 4 gallon per month limit of total quantity of solder flux used in equipment per condition 3 of P/O G24151.\n",
      "<Response [200]> 3833\n",
      "1) 3002(c)(1) FOR FAILING TO COMPLY WITH PERMIT CONDITION NO. 5 OF PERMIT NO. F74266 (TANK NO. 150X14) ON 10/14/13; AND  2) 463(d)(2) FOR FAILING TO MAINTAIN THE ROOF OF INTERNAL FLOATING ROOF TANK nO. 150X14 FLOATING ON THE ORGANIC LIQUID.\n",
      "<Response [200]> 3834\n",
      "Failing to submit permit application to modify afterburner and operating an afterburner that exceeds the applicable NOx limit\n",
      "<Response [200]> 3835\n",
      "OPERATING WITH AN UNCERTIFIED PHASE I SYSTEM. PUMPS # 1 _ # 8 WERE TAGGED OUT OF ORDER DUE TO THE UNCERTIFIED PHASE I SYSTEM.\n",
      "<Response [200]> 3836\n",
      "Failure to demonstrate compliance to applicable emission limit by 07/01/2014.\n",
      "<Response [200]> 3837\n",
      "OPERATING A GASOLINE DISPENSING FACILITY WITHOUT A VALID PERMIT. PERMIT #N26454 EXPIRED 9/19/14. FAILURETO CONDUCT VAPOR RECOVERY TESTING ANNUALLY. LATE  TESTING IN 2012. FAILURE TO TEST IN 2013. LATE TESTING IN 2014.\n",
      "<Response [200]> 3838\n",
      "OPERATING A GASOLINE DISPENSING FACILITY WITHOUT A VALID PERMIT (EXPIRED).\n",
      "<Response [200]> 3839\n",
      "FAILURE TO PROVIDE VAPOR RECOVERY TEST RESULTS FOR 2015 - AS LISTED ON NC E32432. FAILURE TO REPLACE WHIP HOSE #9 AS LISTED ON NC E32432. OPERATING A GASOLINE DISPENSING FACILITY WITH A \"MAJOR DEFECT\"- VISIBLE OPENING ON WHIP HOSE #9. FAILURE TO MAINTAIN\n",
      "<Response [200]> 3840\n",
      "Failed to reconcile quarterly NOx emissions in the third quarter of 2016 CY.  NOx emissions from the beginning of the 2016 compliance year through the end of the third quarter exceeded the annual NOx emissions allocation in effect at the end of the reconc\n",
      "<Response [200]> 3841\n",
      "failure to submit title V renewal application in a timely manner two counts 3002c1 and 3003a6, and 3002c1 failiure to submit annual compliance certification in a timely maner.\n",
      "<Response [200]> 3842\n",
      "Vapor leak over 500 ppm VOC from drain system components.\n",
      "<Response [200]> 3843\n",
      "1) Three vapor leaks over 500 ppm VOC from drain system components.  2) Administrative condition E(2): Failure to maintain in good operating condtion\n"
     ]
    },
    {
     "name": "stdout",
     "output_type": "stream",
     "text": [
      "<Response [200]> 3844\n",
      "Failure to submit accurate QCER for 1st, 2nd, 3rd quarter of compliance year 2013. Failure to electronically report emissions for D992 & D995 for 1st quarter 2013. Failure to eletronically report NOx & SOx emission from R219 equipment for 1st quarter 2013\n",
      "<Response [200]> 3845\n",
      "Failure to report an Annual Quantity and Emmision Report of architectural coatings manufacturer since (2008 - 2009).  For supplying, selling, offering for sale, marketing & manufacturering of non-compliant coatings.\n",
      "<Response [200]> 3846\n",
      "(1) FAILURE TO SUBMIT ANNUAL QUANTITY AND EMISSION REPORTS FOR CY 2014 (2) FAILURE TO PAY ANNUAL QUANTITY AND EMISSION FEES FOR CY 2014 (3) FAILURE TO PAY LATE SURCHARGES FOR CY 2014\n",
      "<Response [200]> 3847\n",
      "Failure to submit a timely Semi-Annual Monitoring (500-SAM) report for the period of 1/1/15 thru 6/30/15.\n",
      "<Response [200]> 3848\n",
      "Operator failed to detect vapor leak exceeding 50 ppmv as methane. Operator installed a hydrocarbon dry cleaning machine without a permit to construct.\n",
      "<Response [200]> 3849\n",
      "Failure to demonstrate compliance with emission limits for two boilers less than 2 mmbtu over 15 years old.\n",
      "<Response [200]> 3850\n",
      "Failure to submit timely title V renewal and failure to comply with section K of title V permit.\n",
      "<Response [200]> 3851\n",
      "Facility Caused and allowed the emission of fugitive dust to cross the property line.\n",
      "<Response [200]> 3852\n",
      "Failure to conduct source testing and portable analyzer test according to schedule outlined in rule 1146. Failure to comply with permit condition.\n",
      "<Response [200]> 3853\n",
      "Failure to obtain a permit to operate for extrusion line(s) that process ABS and polystyrene\n",
      "<Response [200]> 3854\n",
      "Altering permitted gasoline dispensing station with a major modification without first obtaining a permit to construct and operating modified gasoline dispensing station without a valid permit to operate.\n",
      "<Response [200]> 3855\n",
      "Failure to conduct vapor recovery tests semiannually (tests done 2-4-15, 2-2-16, 2-8-17 with monthly throughput greater than 100k gallons\n",
      "<Response [200]> 3856\n",
      "Failure to conduct performance test within 10 days of initial operation of GDF; Failure to conduct reverification tests semi_annually (less than 12 months of data)\n",
      "<Response [200]> 3857\n",
      "Exceeding diesel PM standard for engines located on or near school grounds\n",
      "<Response [200]> 3858\n",
      "Operating contrary to permit conditions by exceeding 30 hours per year for maintenance and testing.\n",
      "<Response [200]> 3859\n",
      "PERP 2453(f) The registration identification device (placard and sticker) shall be affixed on the engine at all times, and the registration certificate including operating conditions shall be kept on the immediate premises\n",
      "<Response [200]> 3860\n",
      "A CUT IN THE FUEL HOSE FOUND NEAR THE COLLAR ATTACHED TO THE VST NOZZLE ON FUELING POINT #5.  THE FUEL HOSE ON FUELING POINT #5 WAS NOT MAINTAINED IN GOOD WORKING ORDER IN ACCORDANCE WITH MANUFACTURER'S SPECS.\n",
      "<Response [200]> 3861\n",
      "201: Constructing or installing a gasoline storage tank without first obtaining a permit to construct; 203(a): Operating a gasoline dispensing unit without first obtaining a permit to operate.\n",
      "<Response [200]> 3862\n",
      "Allowing fugitive dust from disturbed surface area beyond the property line of the emissions source. Failure to utilize BACM control measures from Table I. Failure to install track out prevention at site egress.\n",
      "<Response [200]> 3863\n",
      "Failure to conduct vapor recovery reverification test annually (did not conduct ISD vapor flow meter operability test in June 2016)\n",
      "<Response [200]> 3864\n",
      "Failure to conduct vapor recovery performance test within 10 days of initial operation (first day of operation 1/7/17)\n",
      "<Response [200]> 3865\n",
      "OPERATING A GASOLINE DISPENSING FACILITY CONTRARY TO PERMIT CONDITIONS _ EXCEEDED MONTHLY GASOLINE THROUGHPUT LIMIT IN JULY 2016\n",
      "<Response [200]> 3866\n",
      "Operating a gasoline dispensing facility with a major defect (Faulty insertion interlock on nozzle #5); Failure to maintain vapor recovery system in good working order\n",
      "<Response [200]> 3867\n",
      "Exceeding the number of hours allowed for maintenance and testing.\n",
      "<Response [200]> 3868\n",
      "late submittal of 500_ACC for 7/1/2015 _ 6/30/2016 submitted on 8/31/2016 due 8/29/2016\n",
      "<Response [200]> 3869\n",
      "failure to submit annual compliance certification by the deadline of 3/1/16.\n",
      "<Response [200]> 3870\n",
      "1. Failure to conduct annual reverification tests for unleaded fuel tanks. 2. Annual reverification tests not conducted during the same months each year.\n",
      "<Response [200]> 3871\n",
      "Failure to submit monthly gasoline throughput data by march 1 each year.\n",
      "<Response [200]> 3872\n",
      "failure to register boilers rated 1_2 million btu/hr and failure to submit registraton plans for ac units containing > 50 pounds of refrigerant\n",
      "<Response [200]> 3873\n",
      "Operating engine over 50 bhp without permit to operate.\n",
      "<Response [200]> 3874\n",
      "Failure to conduct source test on boilers every 5 years\n",
      "<Response [200]> 3875\n",
      "Failure to demonstrate compliance with NOx limit specified in Rule 1146.2 (c)(1) for a Parker boiler rated over 400,000 BTU/Hr. and more than 15 years old (mfg. 1994).\n",
      "<Response [200]> 3876\n",
      "Operating permitted engine for maintenance and testing purposes in excess of 20 hours per year.\n",
      "<Response [200]> 3877\n",
      "Operating ICE for maintenance and testing purposes in excess of 20 hours per year\n",
      "<Response [200]> 3878\n",
      "Failure to remove and clean cooling coils every 2 years, failure to replace 1 or more gaskets\n",
      "<Response [200]> 3879\n",
      "The operation of a portable engine rated greater than 50 bhp without a valid permit\n",
      "<Response [200]> 3880\n",
      "Failure to maintain gasoline dispensing system in good working order in accordance with manufacturers' specification of the certified system; Faulty insertion interlock verified by field test - Nozzle # 6 (failed 'A' check); Operating gasoline dispensing\n",
      "<Response [200]> 3881\n",
      "Failure to limit monthly throughput to 890,000during the month of August 2016.\n",
      "<Response [200]> 3882\n",
      "Operating five extrusion lines that extrude PVC and Styrene without a valid permit to operate.\n",
      "<Response [200]> 3883\n",
      "Failure to demonstrate compliance with NOx periodic monitoring schedule.\n",
      "<Response [200]> 3884\n",
      "Failure to demonstrate compliance with NOx emissions (source test) every 5 years.  Failure to comply with emission limit of 9ppm NOx by January 1, 2015.\n",
      "<Response [200]> 3885\n",
      "operating gasoline dispenging equipment with a major defect\n",
      "<Response [200]> 3886\n",
      "failure to conduct reverification tests in the same month each year\n",
      "<Response [200]> 3887\n",
      "Transfering gasoline into an AST that is not Phase I EVR compliant.\n"
     ]
    }
   ],
   "source": [
    "index_except = []\n",
    "\n",
    "for index, row in df.iterrows():   \n",
    "    try:\n",
    "        data = r.get(row['url'])\n",
    "        print(data, index)\n",
    "        page_soup = soup(data.text, 'html.parser')\n",
    "        violation = page_soup.find_all('span')[16].text.strip()\n",
    "        violationEquipment = page_soup.find_all('span')[18].text.strip()\n",
    "        df.set_value(index, 'violation_data', violation)\n",
    "        df.set_value(index, 'equipment', violationEquipment)\n",
    "        print(violation)\n",
    "    \n",
    "    except:\n",
    "        index_except.append(row['notification'])"
   ]
  },
  {
   "cell_type": "code",
   "execution_count": 39,
   "metadata": {},
   "outputs": [
    {
     "data": {
      "text/plain": [
       "[]"
      ]
     },
     "execution_count": 39,
     "metadata": {},
     "output_type": "execute_result"
    }
   ],
   "source": [
    "index_except"
   ]
  },
  {
   "cell_type": "code",
   "execution_count": 40,
   "metadata": {
    "collapsed": true
   },
   "outputs": [],
   "source": [
    "df.to_csv('scrape20.csv', index=False)"
   ]
  },
  {
   "cell_type": "code",
   "execution_count": null,
   "metadata": {
    "collapsed": true
   },
   "outputs": [],
   "source": []
  }
 ],
 "metadata": {
  "kernelspec": {
   "display_name": "Python 3",
   "language": "python",
   "name": "python3"
  },
  "language_info": {
   "codemirror_mode": {
    "name": "ipython",
    "version": 3
   },
   "file_extension": ".py",
   "mimetype": "text/x-python",
   "name": "python",
   "nbconvert_exporter": "python",
   "pygments_lexer": "ipython3",
   "version": "3.6.3"
  }
 },
 "nbformat": 4,
 "nbformat_minor": 2
}
