{
 "cells": [
  {
   "cell_type": "code",
   "execution_count": 5,
   "metadata": {
    "collapsed": true
   },
   "outputs": [],
   "source": [
    "import pandas as pd\n",
    "import os\n",
    "import glob"
   ]
  },
  {
   "cell_type": "code",
   "execution_count": 33,
   "metadata": {},
   "outputs": [
    {
     "data": {
      "text/html": [
       "<div>\n",
       "<style>\n",
       "    .dataframe thead tr:only-child th {\n",
       "        text-align: right;\n",
       "    }\n",
       "\n",
       "    .dataframe thead th {\n",
       "        text-align: left;\n",
       "    }\n",
       "\n",
       "    .dataframe tbody tr th {\n",
       "        vertical-align: top;\n",
       "    }\n",
       "</style>\n",
       "<table border=\"1\" class=\"dataframe\">\n",
       "  <thead>\n",
       "    <tr style=\"text-align: right;\">\n",
       "      <th></th>\n",
       "      <th>facility id</th>\n",
       "      <th>notification</th>\n",
       "      <th>Attorney</th>\n",
       "      <th>Total</th>\n",
       "      <th>url</th>\n",
       "      <th>violation_data</th>\n",
       "      <th>equipment</th>\n",
       "    </tr>\n",
       "  </thead>\n",
       "  <tbody>\n",
       "    <tr>\n",
       "      <th>0</th>\n",
       "      <td>3704</td>\n",
       "      <td>P56324</td>\n",
       "      <td>KCM</td>\n",
       "      <td>7200.00</td>\n",
       "      <td>http://www3.aqmd.gov/webappl/fim/prog/novdetai...</td>\n",
       "      <td>Failed to reconcile quarterly NOx emissions in...</td>\n",
       "      <td>NOX RECLAIM facility</td>\n",
       "    </tr>\n",
       "    <tr>\n",
       "      <th>1</th>\n",
       "      <td>3704</td>\n",
       "      <td>P56323</td>\n",
       "      <td>KCM</td>\n",
       "      <td>7200.00</td>\n",
       "      <td>http://www3.aqmd.gov/webappl/fim/prog/novdetai...</td>\n",
       "      <td>Inaccurate QCERs.  Inaccurate APEP.</td>\n",
       "      <td>NOx RECLAIM facility</td>\n",
       "    </tr>\n",
       "    <tr>\n",
       "      <th>2</th>\n",
       "      <td>2526</td>\n",
       "      <td>P37231</td>\n",
       "      <td>BTG</td>\n",
       "      <td>3500.00</td>\n",
       "      <td>http://www3.aqmd.gov/webappl/fim/prog/novdetai...</td>\n",
       "      <td>FAILURE TO KEEP THE ROOF OF INTERNAL FLOATING ...</td>\n",
       "      <td>NaN</td>\n",
       "    </tr>\n",
       "    <tr>\n",
       "      <th>3</th>\n",
       "      <td>2526</td>\n",
       "      <td>P37230</td>\n",
       "      <td>BTG</td>\n",
       "      <td>3500.00</td>\n",
       "      <td>http://www3.aqmd.gov/webappl/fim/prog/novdetai...</td>\n",
       "      <td>FAILURE TO OPERATE AND MAINTAIN A CONTINUOUS M...</td>\n",
       "      <td>NaN</td>\n",
       "    </tr>\n",
       "    <tr>\n",
       "      <th>4</th>\n",
       "      <td>158141</td>\n",
       "      <td>P60306</td>\n",
       "      <td>WBW</td>\n",
       "      <td>9438.66</td>\n",
       "      <td>http://www3.aqmd.gov/webappl/fim/prog/novdetai...</td>\n",
       "      <td>Selling architectural coatings within the SCAQ...</td>\n",
       "      <td>NaN</td>\n",
       "    </tr>\n",
       "  </tbody>\n",
       "</table>\n",
       "</div>"
      ],
      "text/plain": [
       "  facility id notification Attorney    Total  \\\n",
       "0        3704       P56324      KCM  7200.00   \n",
       "1        3704       P56323      KCM  7200.00   \n",
       "2        2526       P37231      BTG  3500.00   \n",
       "3        2526       P37230      BTG  3500.00   \n",
       "4      158141       P60306      WBW  9438.66   \n",
       "\n",
       "                                                 url  \\\n",
       "0  http://www3.aqmd.gov/webappl/fim/prog/novdetai...   \n",
       "1  http://www3.aqmd.gov/webappl/fim/prog/novdetai...   \n",
       "2  http://www3.aqmd.gov/webappl/fim/prog/novdetai...   \n",
       "3  http://www3.aqmd.gov/webappl/fim/prog/novdetai...   \n",
       "4  http://www3.aqmd.gov/webappl/fim/prog/novdetai...   \n",
       "\n",
       "                                      violation_data             equipment  \n",
       "0  Failed to reconcile quarterly NOx emissions in...  NOX RECLAIM facility  \n",
       "1                Inaccurate QCERs.  Inaccurate APEP.  NOx RECLAIM facility  \n",
       "2  FAILURE TO KEEP THE ROOF OF INTERNAL FLOATING ...                   NaN  \n",
       "3  FAILURE TO OPERATE AND MAINTAIN A CONTINUOUS M...                   NaN  \n",
       "4  Selling architectural coatings within the SCAQ...                   NaN  "
      ]
     },
     "execution_count": 33,
     "metadata": {},
     "output_type": "execute_result"
    }
   ],
   "source": [
    "path = '/Users/gta/Desktop/web-scraping/violations/'\n",
    "all_files = glob.glob(os.path.join(path, \"*.csv\"))\n",
    "df_from_each_file = (pd.read_csv(f) for f in all_files)\n",
    "df = pd.concat(df_from_each_file, ignore_index=True)\n",
    "df.head()"
   ]
  },
  {
   "cell_type": "code",
   "execution_count": 35,
   "metadata": {},
   "outputs": [
    {
     "data": {
      "text/plain": [
       "(3688, 7)"
      ]
     },
     "execution_count": 35,
     "metadata": {},
     "output_type": "execute_result"
    }
   ],
   "source": [
    "df.shape"
   ]
  },
  {
   "cell_type": "code",
   "execution_count": 34,
   "metadata": {},
   "outputs": [
    {
     "data": {
      "text/plain": [
       "352"
      ]
     },
     "execution_count": 34,
     "metadata": {},
     "output_type": "execute_result"
    }
   ],
   "source": [
    "df['violation_data'].isnull().sum()"
   ]
  },
  {
   "cell_type": "code",
   "execution_count": 37,
   "metadata": {},
   "outputs": [
    {
     "data": {
      "text/plain": [
       "'OPERATING A GASOLINE DISPENSING FACILITY WITH A MAJOR DEFECT-UPSIDE DOWN VST HOSE ON PUMP #8; FAULTY INSERTION INTERLOCK ON PUMP #16'"
      ]
     },
     "execution_count": 37,
     "metadata": {},
     "output_type": "execute_result"
    }
   ],
   "source": [
    "df.iloc[3000]['violation_data']"
   ]
  },
  {
   "cell_type": "code",
   "execution_count": null,
   "metadata": {},
   "outputs": [],
   "source": []
  },
  {
   "cell_type": "code",
   "execution_count": null,
   "metadata": {
    "collapsed": true
   },
   "outputs": [],
   "source": []
  }
 ],
 "metadata": {
  "kernelspec": {
   "display_name": "Python 3",
   "language": "python",
   "name": "python3"
  },
  "language_info": {
   "codemirror_mode": {
    "name": "ipython",
    "version": 3
   },
   "file_extension": ".py",
   "mimetype": "text/x-python",
   "name": "python",
   "nbconvert_exporter": "python",
   "pygments_lexer": "ipython3",
   "version": "3.6.3"
  }
 },
 "nbformat": 4,
 "nbformat_minor": 2
}
